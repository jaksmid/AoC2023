{
 "cells": [
  {
   "cell_type": "code",
   "execution_count": 228,
   "metadata": {},
   "outputs": [],
   "source": [
    "import pandas as pd\n",
    "import re\n",
    "import numpy as np"
   ]
  },
  {
   "cell_type": "code",
   "execution_count": 229,
   "metadata": {},
   "outputs": [
    {
     "data": {
      "text/html": [
       "<div>\n",
       "<style scoped>\n",
       "    .dataframe tbody tr th:only-of-type {\n",
       "        vertical-align: middle;\n",
       "    }\n",
       "\n",
       "    .dataframe tbody tr th {\n",
       "        vertical-align: top;\n",
       "    }\n",
       "\n",
       "    .dataframe thead th {\n",
       "        text-align: right;\n",
       "    }\n",
       "</style>\n",
       "<table border=\"1\" class=\"dataframe\">\n",
       "  <thead>\n",
       "    <tr style=\"text-align: right;\">\n",
       "      <th></th>\n",
       "      <th>coding</th>\n",
       "    </tr>\n",
       "  </thead>\n",
       "  <tbody>\n",
       "    <tr>\n",
       "      <th>0</th>\n",
       "      <td>7-F7-</td>\n",
       "    </tr>\n",
       "    <tr>\n",
       "      <th>1</th>\n",
       "      <td>.FJ|7</td>\n",
       "    </tr>\n",
       "    <tr>\n",
       "      <th>2</th>\n",
       "      <td>SJLL7</td>\n",
       "    </tr>\n",
       "    <tr>\n",
       "      <th>3</th>\n",
       "      <td>|F--J</td>\n",
       "    </tr>\n",
       "    <tr>\n",
       "      <th>4</th>\n",
       "      <td>LJ.LJ</td>\n",
       "    </tr>\n",
       "  </tbody>\n",
       "</table>\n",
       "</div>"
      ],
      "text/plain": [
       "  coding\n",
       "0  7-F7-\n",
       "1  .FJ|7\n",
       "2  SJLL7\n",
       "3  |F--J\n",
       "4  LJ.LJ"
      ]
     },
     "execution_count": 229,
     "metadata": {},
     "output_type": "execute_result"
    }
   ],
   "source": [
    "df = pd.read_csv(\"day10.txt\", header=None)\n",
    "df.columns = [\"coding\"]\n",
    "df"
   ]
  },
  {
   "cell_type": "code",
   "execution_count": 230,
   "metadata": {},
   "outputs": [
    {
     "data": {
      "text/plain": [
       "(5, 5)"
      ]
     },
     "execution_count": 230,
     "metadata": {},
     "output_type": "execute_result"
    }
   ],
   "source": [
    "x_dim = df.coding.str.len()[0]\n",
    "y_dim = len(df)\n",
    "x_dim, y_dim"
   ]
  },
  {
   "cell_type": "code",
   "execution_count": 231,
   "metadata": {},
   "outputs": [],
   "source": [
    "symbols = np.zeros((x_dim, y_dim), dtype=\"str\")"
   ]
  },
  {
   "cell_type": "code",
   "execution_count": 232,
   "metadata": {},
   "outputs": [],
   "source": [
    "starting_node = None"
   ]
  },
  {
   "cell_type": "code",
   "execution_count": 233,
   "metadata": {},
   "outputs": [
    {
     "data": {
      "text/plain": [
       "array([['7', '-', 'F', '7', '-'],\n",
       "       ['.', 'F', 'J', '|', '7'],\n",
       "       ['S', 'J', 'L', 'L', '7'],\n",
       "       ['|', 'F', '-', '-', 'J'],\n",
       "       ['L', 'J', '.', 'L', 'J']], dtype='<U1')"
      ]
     },
     "execution_count": 233,
     "metadata": {},
     "output_type": "execute_result"
    }
   ],
   "source": [
    "numbers = []\n",
    "for y, row in enumerate(df.coding):\n",
    "    for x, val in enumerate(row):\n",
    "        symbols[y, x] = val\n",
    "        if val == \"S\":\n",
    "            starting_node = y, x\n",
    "symbols"
   ]
  },
  {
   "cell_type": "code",
   "execution_count": 234,
   "metadata": {},
   "outputs": [
    {
     "data": {
      "text/plain": [
       "(2, 0)"
      ]
     },
     "execution_count": 234,
     "metadata": {},
     "output_type": "execute_result"
    }
   ],
   "source": [
    "starting_node"
   ]
  },
  {
   "cell_type": "code",
   "execution_count": 235,
   "metadata": {},
   "outputs": [],
   "source": [
    "visited_nodes = {starting_node: 0}"
   ]
  },
  {
   "cell_type": "code",
   "execution_count": 236,
   "metadata": {},
   "outputs": [],
   "source": [
    "from collections import deque\n",
    "queue = deque()\n",
    "queue.append(starting_node)"
   ]
  },
  {
   "cell_type": "code",
   "execution_count": 237,
   "metadata": {},
   "outputs": [],
   "source": [
    "class SymbolDefinition:\n",
    "    def __init__(self, symbol, new_locations_generator) -> None:\n",
    "        self.symbol = symbol\n",
    "        self.new_locations_generator = new_locations_generator\n",
    "\n",
    "    def get_new_locations(self, location):\n",
    "        y, x = location\n",
    "        return self.new_locations_generator(y, x)"
   ]
  },
  {
   "cell_type": "code",
   "execution_count": 238,
   "metadata": {},
   "outputs": [],
   "source": [
    "definitions = [\n",
    "SymbolDefinition(\"-\", lambda y, x: [(y, x-1), (y, x+1)]),\n",
    "SymbolDefinition(\"|\", lambda y, x: [(y+1, x), (y-1, x)]),\n",
    "SymbolDefinition(\"L\", lambda y, x: [(y, x+1), (y-1, x)]),\n",
    "SymbolDefinition(\"J\", lambda y, x: [(y, x-1), (y-1, x)]),\n",
    "SymbolDefinition(\"7\", lambda y, x: [(y, x-1), (y+1, x)]),\n",
    "SymbolDefinition(\"F\", lambda y, x: [(y, x+1), (y+1, x)])\n",
    "]"
   ]
  },
  {
   "cell_type": "code",
   "execution_count": 239,
   "metadata": {},
   "outputs": [],
   "source": [
    "symbol_def_map = {symboldef.symbol: symboldef for symboldef in definitions}"
   ]
  },
  {
   "cell_type": "code",
   "execution_count": 240,
   "metadata": {},
   "outputs": [
    {
     "name": "stdout",
     "output_type": "stream",
     "text": [
      "deque([(3, 0), (2, 1)])\n"
     ]
    }
   ],
   "source": [
    "def process_locations(new_locations, prev_x, prev_y):\n",
    "    current_steps = visited_nodes[(prev_y, prev_x)]\n",
    "    for new_loc in new_locations:\n",
    "        if new_loc not in visited_nodes:\n",
    "            visited_nodes[new_loc] = current_steps + 1\n",
    "            queue.append(new_loc)\n",
    "\n",
    "while len(queue):\n",
    "    current_search = queue.popleft()\n",
    "    y, x = current_search\n",
    "    #print(f\"processing {current_search}\")\n",
    "    symbol = symbols[y, x]\n",
    "    if symbol == \"S\":\n",
    "        if symbols[y, x+1] == \"-\":\n",
    "            visited_nodes[(y, x+1)] = 1\n",
    "            queue.append((y, x+1))\n",
    "        if symbols[y, x-1] == \"-\":\n",
    "            visited_nodes[(y, x-1)] = 1\n",
    "            queue.append((y, x-1))\n",
    "        if symbols[y+1, x] == \"|\":\n",
    "            visited_nodes[(y+1, x)] = 1\n",
    "            queue.append((y+1, x))\n",
    "        if symbols[y-1, x] == \"|\":\n",
    "            visited_nodes[(y-1, x)] = 1\n",
    "            queue.append((y-1, x))\n",
    "        if symbols[y-1, x] == \"J\":\n",
    "            visited_nodes[(y-1, x)] = 1\n",
    "            queue.append((y-1, x))\n",
    "        if symbols[y, x+1] == \"J\":\n",
    "            visited_nodes[(y, x+1)] = 1\n",
    "            queue.append((y, x+1))\n",
    "        if symbols[y+1, x] == \"L\":\n",
    "            visited_nodes[(y+1, x)] = 1\n",
    "            queue.append((y+1, x))\n",
    "        print(queue)\n",
    "    else:\n",
    "        symbol_def = symbol_def_map[symbol]\n",
    "        new_locations = symbol_def.get_new_locations(current_search)\n",
    "        process_locations(new_locations, x, y)   \n",
    "\n"
   ]
  },
  {
   "cell_type": "code",
   "execution_count": 241,
   "metadata": {},
   "outputs": [
    {
     "data": {
      "text/plain": [
       "{(2, 0): 0,\n",
       " (3, 0): 1,\n",
       " (2, 1): 1,\n",
       " (4, 0): 2,\n",
       " (1, 1): 2,\n",
       " (4, 1): 3,\n",
       " (1, 2): 3,\n",
       " (3, 1): 4,\n",
       " (0, 2): 4,\n",
       " (3, 2): 5,\n",
       " (0, 3): 5,\n",
       " (3, 3): 6,\n",
       " (1, 3): 6,\n",
       " (3, 4): 7,\n",
       " (2, 3): 7,\n",
       " (2, 4): 8}"
      ]
     },
     "execution_count": 241,
     "metadata": {},
     "output_type": "execute_result"
    }
   ],
   "source": [
    "visited_nodes"
   ]
  }
 ],
 "metadata": {
  "kernelspec": {
   "display_name": "Python 3",
   "language": "python",
   "name": "python3"
  },
  "language_info": {
   "codemirror_mode": {
    "name": "ipython",
    "version": 3
   },
   "file_extension": ".py",
   "mimetype": "text/x-python",
   "name": "python",
   "nbconvert_exporter": "python",
   "pygments_lexer": "ipython3",
   "version": "3.11.1"
  }
 },
 "nbformat": 4,
 "nbformat_minor": 2
}
