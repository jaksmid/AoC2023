{
 "cells": [
  {
   "cell_type": "code",
   "execution_count": 20,
   "metadata": {},
   "outputs": [],
   "source": [
    "def arrays_equal(arr1, arr2):\n",
    "    if len(arr1) != len(arr2):\n",
    "        return False\n",
    "    for i,v in enumerate(arr1):\n",
    "        if v != arr2[i]:\n",
    "            return False\n",
    "    return True"
   ]
  },
  {
   "cell_type": "code",
   "execution_count": 21,
   "metadata": {},
   "outputs": [],
   "source": [
    "def count_subsequents(line, subsequents):\n",
    "    if not (len(line)):\n",
    "        return []\n",
    "    #possible_arrangments = [None] * len(line)\n",
    "    sequences = []\n",
    "    current_sequence = 0\n",
    "    for i, char in enumerate(line):\n",
    "        if char == \"#\":\n",
    "            current_sequence += 1\n",
    "        elif char == \".\":\n",
    "            sequences.append(current_sequence)\n",
    "            current_sequence = 0\n",
    "        else:\n",
    "            sequence_length = len(sequences)\n",
    "            if not arrays_equal(subsequents[:sequence_length], sequences):\n",
    "                # only possible is to extend\n",
    "                current_sequence += 1\n",
    "            else:\n",
    "                # inserted .\n",
    "                seq1 = count_subsequents(line[i:], subsequents[sequence_length:])\n",
    "                # inserted #\n",
    "                updated_length = [subsequents[sequence_length] - current_sequence] + subsequents[sequence_length+1:]\n",
    "                seq2 = count_subsequents(line[i], updated_length)\n",
    "                results = []\n",
    "                for new_seq in seq1+seq2:\n",
    "                    if arrays_equal(subsequents, new_seq):\n",
    "                        results.append(new_seq)\n",
    "                return results\n",
    "    if current_sequence:\n",
    "        sequences.append(current_sequence) \n",
    "    return [sequences]"
   ]
  },
  {
   "cell_type": "code",
   "execution_count": 22,
   "metadata": {},
   "outputs": [],
   "source": [
    "def place_subsequents2(line, subsequents):\n",
    "    if not len(subsequents):\n",
    "        if \"#\" in line:\n",
    "            return 0\n",
    "        else:\n",
    "            return 1\n",
    "    if subsequents[0] == 0:\n",
    "        return place_subsequents(line, subsequents[1:])\n",
    "    if len(line): \n",
    "        if line[0] == '.':\n",
    "            return place_subsequents(line[1:], subsequents)\n",
    "        elif line[0] == '#':\n",
    "                return place_subsequents(line[1:], [subsequents[0]-1]+subsequents[1:])\n",
    "    dot_counts = len([char for char in line if char in [\".\", \"?\"]])\n",
    "    if dot_counts < len(subsequents)-1:\n",
    "        return 0   \n",
    "    current_continuos = subsequents[0]\n",
    "    first_dot = line.find(\".\")\n",
    "    if first_dot < 0:\n",
    "        first_dot = len(line)\n",
    "    if first_dot < current_continuos-1:\n",
    "        return 0\n",
    "    result = 0\n",
    "    for i in range(first_dot - current_continuos+1):\n",
    "        if line[i+current_continuos] == \"#\":\n",
    "            continue \n",
    "        result += place_subsequents(line[i+current_continuos+1:], subsequents[1:])\n",
    "    return result"
   ]
  },
  {
   "cell_type": "code",
   "execution_count": 23,
   "metadata": {},
   "outputs": [],
   "source": [
    "def check_position(line, subsequents, positions):\n",
    "    eligible_positions = [k+pos for i, pos in enumerate(positions) for k in range(subsequents[i])]\n",
    "    eligible_positions_set = set(eligible_positions)\n",
    "    if len(eligible_positions_set) != len(eligible_positions):\n",
    "        return False\n",
    "    # positions need to be at least one further away\n",
    "    chains = 0    \n",
    "    for i, eligible in enumerate(eligible_positions):\n",
    "        if i == 0:\n",
    "            chains += 1\n",
    "        elif eligible - 1 != eligible_positions[i-1]:\n",
    "            chains +=1\n",
    "    if chains != len(positions):\n",
    "        return False\n",
    "    for i, char in enumerate(line):\n",
    "        if char == \".\" and i in eligible_positions_set:\n",
    "            return False\n",
    "        elif char == '#' and i not in eligible_positions_set:\n",
    "            return False\n",
    "    return True"
   ]
  },
  {
   "cell_type": "code",
   "execution_count": 24,
   "metadata": {},
   "outputs": [],
   "source": [
    "from itertools import combinations\n",
    "\n",
    "\n",
    "def place_subsequents(line, subsequents):\n",
    "    if not len(subsequents):\n",
    "        if \"#\" in line:\n",
    "            return 0\n",
    "        else:\n",
    "            return 1\n",
    "    if line[-1] == \".\":\n",
    "        return place_subsequents(line[:-1], subsequents)\n",
    "    if subsequents[0] == 0:\n",
    "        return place_subsequents(line, subsequents[1:])\n",
    "    last_possible_start = len(line) - subsequents[-1]\n",
    "    #  .# 1\n",
    "    # lp 1\n",
    "    positions_to_consider = [position for position, char in enumerate(line) if char != '.' and position <= last_possible_start]\n",
    "    amount_of_positions = len(subsequents)\n",
    "    res = 0\n",
    "    goodpositions = []\n",
    "    for combo in combinations(positions_to_consider, amount_of_positions):\n",
    "        if check_position(line, subsequents, combo):\n",
    "            res+=1\n",
    "    return res      \n",
    "   "
   ]
  },
  {
   "cell_type": "code",
   "execution_count": 25,
   "metadata": {},
   "outputs": [
    {
     "data": {
      "text/plain": [
       "False"
      ]
     },
     "execution_count": 25,
     "metadata": {},
     "output_type": "execute_result"
    }
   ],
   "source": [
    "check_position(\"?#?#?#?#?#?#?#?\", [1,3,1,6], [0,2,6,8])"
   ]
  },
  {
   "cell_type": "code",
   "execution_count": 26,
   "metadata": {},
   "outputs": [
    {
     "data": {
      "text/plain": [
       "True"
      ]
     },
     "execution_count": 26,
     "metadata": {},
     "output_type": "execute_result"
    }
   ],
   "source": [
    "check_position(\"?#?#?#?#?#?#?#?\", [1,3,1,6], [1,3,7,9])"
   ]
  },
  {
   "cell_type": "code",
   "execution_count": 27,
   "metadata": {},
   "outputs": [
    {
     "data": {
      "text/plain": [
       "1"
      ]
     },
     "execution_count": 27,
     "metadata": {},
     "output_type": "execute_result"
    }
   ],
   "source": [
    "#.#.### 1,1,3\n",
    "place_subsequents(\"#.#.###\", [1, 1, 3])"
   ]
  },
  {
   "cell_type": "code",
   "execution_count": 28,
   "metadata": {},
   "outputs": [
    {
     "data": {
      "text/plain": [
       "1"
      ]
     },
     "execution_count": 28,
     "metadata": {},
     "output_type": "execute_result"
    }
   ],
   "source": [
    "place_subsequents(\"???.###\", [1, 1, 3])"
   ]
  },
  {
   "cell_type": "markdown",
   "metadata": {},
   "source": [
    "???.### 1,1,3 - 1 arrangement\n",
    ".??..??...?##. 1,1,3 - 4 arrangements\n",
    "?#?#?#?#?#?#?#? 1,3,1,6 - 1 arrangement\n",
    "????.#...#... 4,1,1 - 1 arrangement\n",
    "????.######..#####. 1,6,5 - 4 arrangements\n",
    "?###???????? 3,2,1 - 10 arrangements"
   ]
  },
  {
   "cell_type": "code",
   "execution_count": 29,
   "metadata": {},
   "outputs": [
    {
     "data": {
      "text/plain": [
       "4"
      ]
     },
     "execution_count": 29,
     "metadata": {},
     "output_type": "execute_result"
    }
   ],
   "source": [
    "place_subsequents(\".??..??...?##.\" ,[1,1,3])"
   ]
  },
  {
   "cell_type": "code",
   "execution_count": 30,
   "metadata": {},
   "outputs": [
    {
     "data": {
      "text/plain": [
       "1"
      ]
     },
     "execution_count": 30,
     "metadata": {},
     "output_type": "execute_result"
    }
   ],
   "source": [
    "place_subsequents(\"?#?#?#?#?#?#?#?\", [1,3,1,6])"
   ]
  },
  {
   "cell_type": "code",
   "execution_count": 31,
   "metadata": {},
   "outputs": [
    {
     "data": {
      "text/plain": [
       "1"
      ]
     },
     "execution_count": 31,
     "metadata": {},
     "output_type": "execute_result"
    }
   ],
   "source": [
    "place_subsequents(\"????.#...#...\" ,[4,1,1])"
   ]
  },
  {
   "cell_type": "code",
   "execution_count": 32,
   "metadata": {},
   "outputs": [
    {
     "data": {
      "text/plain": [
       "4"
      ]
     },
     "execution_count": 32,
     "metadata": {},
     "output_type": "execute_result"
    }
   ],
   "source": [
    "place_subsequents(\"????.######..#####.\" ,[1,6,5])"
   ]
  },
  {
   "cell_type": "code",
   "execution_count": 33,
   "metadata": {},
   "outputs": [
    {
     "data": {
      "text/plain": [
       "10"
      ]
     },
     "execution_count": 33,
     "metadata": {},
     "output_type": "execute_result"
    }
   ],
   "source": [
    "place_subsequents(\"?###????????\" ,[3,2,1])"
   ]
  },
  {
   "cell_type": "code",
   "execution_count": 34,
   "metadata": {},
   "outputs": [
    {
     "data": {
      "text/plain": [
       "41"
      ]
     },
     "execution_count": 34,
     "metadata": {},
     "output_type": "execute_result"
    }
   ],
   "source": [
    "place_subsequents(\"??#????????????#\", [1,2,1,2,1])"
   ]
  },
  {
   "cell_type": "code",
   "execution_count": 38,
   "metadata": {},
   "outputs": [],
   "source": [
    "def compute_next(line):\n",
    "    #print(line)\n",
    "    left, right = line.split()\n",
    "    return place_subsequents(left, [int(x) for x in right.split(\",\")])"
   ]
  },
  {
   "cell_type": "code",
   "execution_count": 39,
   "metadata": {},
   "outputs": [
    {
     "data": {
      "text/plain": [
       "6871"
      ]
     },
     "execution_count": 39,
     "metadata": {},
     "output_type": "execute_result"
    }
   ],
   "source": [
    "with open(\"day12.txt\") as f:\n",
    "    lines = f.readlines()\n",
    "results = []\n",
    "for line in lines:\n",
    "    results.append(compute_next(line))\n",
    "sum(results)"
   ]
  }
 ],
 "metadata": {
  "kernelspec": {
   "display_name": "Python 3",
   "language": "python",
   "name": "python3"
  },
  "language_info": {
   "codemirror_mode": {
    "name": "ipython",
    "version": 3
   },
   "file_extension": ".py",
   "mimetype": "text/x-python",
   "name": "python",
   "nbconvert_exporter": "python",
   "pygments_lexer": "ipython3",
   "version": "3.11.1"
  }
 },
 "nbformat": 4,
 "nbformat_minor": 2
}
