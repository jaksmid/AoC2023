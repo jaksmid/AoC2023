{
 "cells": [
  {
   "cell_type": "code",
   "execution_count": 32,
   "metadata": {},
   "outputs": [],
   "source": [
    "from dataclasses import dataclass\n",
    "import numpy as np\n",
    "\n",
    "alphabet = \"ABCDEFGH\"\n",
    "\n",
    "@dataclass\n",
    "class Coordinate:\n",
    "    x: int\n",
    "    y: int\n",
    "    z: int\n",
    "\n",
    "class Brick():\n",
    "    def __init__(self, start: Coordinate, end: Coordinate, id: int) -> None:\n",
    "        self.start = start\n",
    "        self.end = end\n",
    "        self.id = id if id >= len(alphabet) else alphabet[id]\n",
    "\n",
    "    def __repr__(self) -> str:\n",
    "       return f\"{str(self.start)} - {str(self.end)}\""
   ]
  },
  {
   "cell_type": "code",
   "execution_count": 33,
   "metadata": {},
   "outputs": [],
   "source": [
    "def parse_coordinate(raw_coord):\n",
    "    return Coordinate(*[int(coord) for coord in raw_coord.split(\",\")])"
   ]
  },
  {
   "cell_type": "code",
   "execution_count": 34,
   "metadata": {},
   "outputs": [],
   "source": [
    "def pretty_print(matrix):\n",
    "    print(str(matrix).replace(' ','').replace(\"'\",\"\").replace('[','').replace(']',''))"
   ]
  },
  {
   "cell_type": "code",
   "execution_count": 35,
   "metadata": {},
   "outputs": [
    {
     "data": {
      "text/plain": [
       "[Coordinate(x=1, y=0, z=1) - Coordinate(x=1, y=2, z=1),\n",
       " Coordinate(x=0, y=0, z=2) - Coordinate(x=2, y=0, z=2),\n",
       " Coordinate(x=0, y=2, z=3) - Coordinate(x=2, y=2, z=3),\n",
       " Coordinate(x=0, y=0, z=4) - Coordinate(x=0, y=2, z=4),\n",
       " Coordinate(x=2, y=0, z=5) - Coordinate(x=2, y=2, z=5),\n",
       " Coordinate(x=0, y=1, z=6) - Coordinate(x=2, y=1, z=6),\n",
       " Coordinate(x=1, y=1, z=8) - Coordinate(x=1, y=1, z=9)]"
      ]
     },
     "execution_count": 35,
     "metadata": {},
     "output_type": "execute_result"
    }
   ],
   "source": [
    "with open(\"day22.txt\") as f:\n",
    "    lines = f.readlines()\n",
    "current_pattern = []\n",
    "for i, line in enumerate(lines):\n",
    "    if len(line) > 3:\n",
    "        if i != len(lines) -1:\n",
    "            line = line[:-1]\n",
    "    current_pattern.append(line)\n",
    "bricks = []\n",
    "for brick in current_pattern:     \n",
    "     start, end = brick.split(\"~\")\n",
    "     start, end = parse_coordinate(start), parse_coordinate(end)\n",
    "     bricks.append(Brick(start, end, len(bricks)))\n",
    "bricks\n"
   ]
  },
  {
   "cell_type": "code",
   "execution_count": 36,
   "metadata": {},
   "outputs": [],
   "source": [
    "def print_dimension(bricks, dimension):\n",
    "    x_dim = 3\n",
    "    y_dim = 10\n",
    "    symbols = np.zeros((y_dim, x_dim), dtype=\"str\")\n",
    "    for y in range(y_dim):\n",
    "        for x in range(x_dim):\n",
    "            symbols[y, x] = \".\"\n",
    "    for brick in bricks:\n",
    "        name = brick.id\n",
    "        for x in range(getattr(brick.start, dimension), getattr(brick.end, dimension)+1):\n",
    "            for z in range(brick.start.z, brick.end.z+1):\n",
    "                if symbols[y_dim-1-z, x] == \".\":\n",
    "                    symbols[y_dim-1-z, x] = name\n",
    "                else:\n",
    "                     symbols[y_dim-1-z, x] = '?'\n",
    "    pretty_print(symbols)"
   ]
  },
  {
   "cell_type": "code",
   "execution_count": 37,
   "metadata": {},
   "outputs": [],
   "source": [
    "#print_dimension(bricks, \"x\")"
   ]
  },
  {
   "cell_type": "code",
   "execution_count": 38,
   "metadata": {},
   "outputs": [],
   "source": [
    "#print_dimension(bricks, \"y\")"
   ]
  },
  {
   "cell_type": "code",
   "execution_count": 39,
   "metadata": {},
   "outputs": [],
   "source": [
    "def ranges_overlap(x1, x2, y1, y2):\n",
    "    return x1 <= y2 and y1 <= x2"
   ]
  },
  {
   "cell_type": "code",
   "execution_count": 40,
   "metadata": {},
   "outputs": [],
   "source": [
    "while True:\n",
    "    sorted_bricks = sorted(bricks, key=lambda x: x.end.z, reverse=False)\n",
    "    fallen_brick = False\n",
    "    for brick in sorted_bricks:\n",
    "        if brick.start.z > 1:\n",
    "            can_fall = True\n",
    "            for other_brick in bricks:\n",
    "                if brick.id != other_brick.id:\n",
    "                    if other_brick.end.z == brick.start.z-1:\n",
    "                        if ranges_overlap(brick.start.x, brick.end.x, other_brick.start.x, other_brick.end.x):\n",
    "                            if ranges_overlap(brick.start.y, brick.end.y, other_brick.start.y, other_brick.end.y):\n",
    "                                can_fall = False\n",
    "                                break\n",
    "            if can_fall:\n",
    "                brick.start.z =  brick.start.z -1\n",
    "                brick.end.z =  brick.end.z -1\n",
    "                fallen_brick = True\n",
    "    if not fallen_brick:\n",
    "        break"
   ]
  },
  {
   "cell_type": "code",
   "execution_count": 41,
   "metadata": {},
   "outputs": [],
   "source": [
    "#print_dimension(bricks, \"x\")"
   ]
  },
  {
   "cell_type": "code",
   "execution_count": 42,
   "metadata": {},
   "outputs": [],
   "source": [
    "#print_dimension(bricks, \"y\")"
   ]
  },
  {
   "cell_type": "code",
   "execution_count": 43,
   "metadata": {},
   "outputs": [],
   "source": [
    "supports = {}\n",
    "is_supported = {}\n",
    "for brick in bricks:\n",
    "    supports[brick.id] = []\n",
    "    is_supported[brick.id] = []\n",
    "sorted_bricks = sorted(bricks, key=lambda x: x.end.z, reverse=False)\n",
    "for brick in sorted_bricks:\n",
    "    if brick.start.z > 1:\n",
    "        for other_brick in bricks:\n",
    "            if brick.id != other_brick.id:\n",
    "                if other_brick.end.z == brick.start.z-1:\n",
    "                    if ranges_overlap(brick.start.x, brick.end.x, other_brick.start.x, other_brick.end.x):\n",
    "                        if ranges_overlap(brick.start.y, brick.end.y, other_brick.start.y, other_brick.end.y):\n",
    "                            supports[other_brick.id].append(brick.id)\n",
    "                            is_supported[brick.id].append(other_brick.id)"
   ]
  },
  {
   "cell_type": "code",
   "execution_count": 44,
   "metadata": {},
   "outputs": [
    {
     "data": {
      "text/plain": [
       "{'A': ['B', 'C'],\n",
       " 'B': ['D', 'E'],\n",
       " 'C': ['D', 'E'],\n",
       " 'D': ['F'],\n",
       " 'E': ['F'],\n",
       " 'F': ['G'],\n",
       " 'G': []}"
      ]
     },
     "execution_count": 44,
     "metadata": {},
     "output_type": "execute_result"
    }
   ],
   "source": [
    "supports"
   ]
  },
  {
   "cell_type": "code",
   "execution_count": 45,
   "metadata": {},
   "outputs": [
    {
     "data": {
      "text/plain": [
       "{'A': [],\n",
       " 'B': ['A'],\n",
       " 'C': ['A'],\n",
       " 'D': ['B', 'C'],\n",
       " 'E': ['B', 'C'],\n",
       " 'F': ['D', 'E'],\n",
       " 'G': ['F']}"
      ]
     },
     "execution_count": 45,
     "metadata": {},
     "output_type": "execute_result"
    }
   ],
   "source": [
    "is_supported"
   ]
  },
  {
   "cell_type": "code",
   "execution_count": 47,
   "metadata": {},
   "outputs": [
    {
     "data": {
      "text/plain": [
       "7"
      ]
     },
     "execution_count": 47,
     "metadata": {},
     "output_type": "execute_result"
    }
   ],
   "source": [
    "brick_to_fall = {}\n",
    "for brick in bricks:\n",
    "      to_remove = {brick.id}\n",
    "      set_can_change = True\n",
    "      current_falling = len(to_remove)\n",
    "      while set_can_change:\n",
    "            set_can_change = False\n",
    "            for other_brick in bricks:\n",
    "                  if other_brick.id not in to_remove:\n",
    "                        supported = set(is_supported[other_brick.id])\n",
    "                        if len(supported):\n",
    "                              if len(supported - to_remove)==0:\n",
    "                                    to_remove.add(other_brick.id)\n",
    "            if current_falling != len(to_remove):\n",
    "                  set_can_change = True\n",
    "                  current_falling = len(to_remove)\n",
    "      brick_to_fall[brick.id] = to_remove\n",
    "sum([len(values)-1 for values in brick_to_fall.values()])\n",
    "      "
   ]
  }
 ],
 "metadata": {
  "kernelspec": {
   "display_name": "Python 3",
   "language": "python",
   "name": "python3"
  },
  "language_info": {
   "codemirror_mode": {
    "name": "ipython",
    "version": 3
   },
   "file_extension": ".py",
   "mimetype": "text/x-python",
   "name": "python",
   "nbconvert_exporter": "python",
   "pygments_lexer": "ipython3",
   "version": "3.11.1"
  }
 },
 "nbformat": 4,
 "nbformat_minor": 2
}
