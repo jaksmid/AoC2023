{
 "cells": [
  {
   "cell_type": "code",
   "execution_count": 32,
   "metadata": {},
   "outputs": [],
   "source": [
    "class Rule():\n",
    "    def __init__(self, field, operator, workflow) -> None:\n",
    "        self.field = field\n",
    "        self.operator = operator\n",
    "        self.workflow = workflow\n",
    "\n",
    "    def apply_rule(self, range):\n",
    "        limited_range, remainder = self.operator(range, self.field)\n",
    "        return limited_range, self.workflow, remainder "
   ]
  },
  {
   "cell_type": "code",
   "execution_count": 33,
   "metadata": {},
   "outputs": [],
   "source": [
    "class Workflow():\n",
    "    def __init__(self, name, rules) -> None:\n",
    "        self.rules = rules\n",
    "        self.name = name\n",
    "\n",
    "    def apply_rules(self, range):\n",
    "        new_ranges = []\n",
    "        for rule in self.rules:\n",
    "            limited_range, flow_name, remainder  = rule.apply_rule(range)\n",
    "            if limited_range:\n",
    "                new_ranges.append((limited_range, flow_name ))\n",
    "            if remainder:\n",
    "                range = remainder\n",
    "            else:\n",
    "                break\n",
    "        return new_ranges\n"
   ]
  },
  {
   "cell_type": "code",
   "execution_count": 34,
   "metadata": {},
   "outputs": [],
   "source": [
    "class Workflows():\n",
    "    def __init__(self, workflows) -> None:\n",
    "        self.workflows = workflows\n",
    "\n",
    "    def compute_accepted(self, range):\n",
    "        workflow_name = \"in\"\n",
    "        ranges = [(range, workflow_name)]\n",
    "        accepted = []\n",
    "        while True:\n",
    "            to_pass = [range for range in ranges if range[1] not in [\"A\", 'R']]\n",
    "            accepted += [range for range in ranges if range[1] == 'A']\n",
    "            if not len(to_pass):\n",
    "                break\n",
    "            new_ranges = []\n",
    "            for new in to_pass:\n",
    "                wf_name = new[1]\n",
    "                new_ranges += self.workflows[wf_name].apply_rules(new[0])\n",
    "            ranges = new_ranges\n",
    "        return accepted\n"
   ]
  },
  {
   "cell_type": "code",
   "execution_count": 35,
   "metadata": {},
   "outputs": [],
   "source": [
    "class XMASRange():\n",
    "    def __init__(self, x, m, a, s) -> None:\n",
    "        self.x = x\n",
    "        self.m = m\n",
    "        self.a = a\n",
    "        self.s = s\n",
    "\n",
    "    def __repr__(self) -> str:\n",
    "        return f\"{self.x=} {self.m=} {self.a=} {self.s=}\"\n",
    "    \n",
    "    def compute_possibilities(self):\n",
    "        x = self.x[1] - self.x[0] + 1\n",
    "        m = self.m[1] - self.m[0] + 1\n",
    "        a = self.a[1] - self.a[0] + 1\n",
    "        s = self.s[1] - self.s[0] + 1\n",
    "        return x*m*a*s"
   ]
  },
  {
   "cell_type": "code",
   "execution_count": 36,
   "metadata": {},
   "outputs": [],
   "source": [
    "def split_range_less(range: XMASRange, field_name, value):\n",
    "    current_from, current_to = getattr(range, field_name)\n",
    "    new_to = min(value-1, current_to)\n",
    "    if new_to < current_from:\n",
    "        return None, range\n",
    "    val_map = {\n",
    "        \"x\": range.x,\n",
    "        \"m\": range.m,\n",
    "        \"a\": range.a,\n",
    "        \"s\": range.s\n",
    "    }\n",
    "    val_map[field_name] = (current_from, new_to)\n",
    "    range_left = XMASRange(val_map[\"x\"], val_map[\"m\"],val_map[\"a\"],val_map[\"s\"])\n",
    "    val_map[field_name] = (new_to+1, current_to)\n",
    "    range_right = XMASRange(val_map[\"x\"], val_map[\"m\"],val_map[\"a\"],val_map[\"s\"])\n",
    "    return range_left, range_right if new_to+1 <= current_to else None\n",
    "    \n"
   ]
  },
  {
   "cell_type": "code",
   "execution_count": 37,
   "metadata": {},
   "outputs": [
    {
     "data": {
      "text/plain": [
       "(self.x=(1, 999) self.m=(1, 4000) self.a=(1, 4000) self.s=(1, 4000),\n",
       " self.x=(1000, 4000) self.m=(1, 4000) self.a=(1, 4000) self.s=(1, 4000))"
      ]
     },
     "execution_count": 37,
     "metadata": {},
     "output_type": "execute_result"
    }
   ],
   "source": [
    "split_range_less(XMASRange((1,4000),(1,4000),(1,4000),(1,4000)), \"x\", 1000)"
   ]
  },
  {
   "cell_type": "code",
   "execution_count": 38,
   "metadata": {},
   "outputs": [],
   "source": [
    "def split_range_greater(range: XMASRange, field_name, value):\n",
    "    current_from, current_to = getattr(range, field_name)\n",
    "    new_from = max(value+1, current_from)\n",
    "    if current_to < new_from:\n",
    "        return None, range\n",
    "    val_map = {\n",
    "        \"x\": range.x,\n",
    "        \"m\": range.m,\n",
    "        \"a\": range.a,\n",
    "        \"s\": range.s\n",
    "    }\n",
    "    val_map[field_name] = (new_from, current_to)\n",
    "    range_left = XMASRange(val_map[\"x\"], val_map[\"m\"],val_map[\"a\"],val_map[\"s\"])\n",
    "    val_map[field_name] = (current_from, new_from-1)\n",
    "    range_right = XMASRange(val_map[\"x\"], val_map[\"m\"],val_map[\"a\"],val_map[\"s\"])\n",
    "    return range_left, range_right if current_from <= new_from-1 else None"
   ]
  },
  {
   "cell_type": "code",
   "execution_count": 39,
   "metadata": {},
   "outputs": [
    {
     "data": {
      "text/plain": [
       "(self.x=(1001, 4000) self.m=(1, 4000) self.a=(1, 4000) self.s=(1, 4000),\n",
       " self.x=(1, 1000) self.m=(1, 4000) self.a=(1, 4000) self.s=(1, 4000))"
      ]
     },
     "execution_count": 39,
     "metadata": {},
     "output_type": "execute_result"
    }
   ],
   "source": [
    "split_range_greater(XMASRange((1,4000),(1,4000),(1,4000),(1,4000)), \"x\", 1000)"
   ]
  },
  {
   "cell_type": "code",
   "execution_count": 40,
   "metadata": {},
   "outputs": [
    {
     "data": {
      "text/plain": [
       "(self.x=(1, 4000) self.m=(1, 4000) self.a=(1, 4000) self.s=(1, 4000), None)"
      ]
     },
     "execution_count": 40,
     "metadata": {},
     "output_type": "execute_result"
    }
   ],
   "source": [
    "split_range_greater(XMASRange((1,4000),(1,4000),(1,4000),(1,4000)), \"x\", 0)"
   ]
  },
  {
   "cell_type": "code",
   "execution_count": 41,
   "metadata": {},
   "outputs": [],
   "source": [
    "def copy_range(range: XMASRange, field_name, value):\n",
    "    return XMASRange(range.x, range.m,range.a,range.s)"
   ]
  },
  {
   "cell_type": "code",
   "execution_count": 42,
   "metadata": {},
   "outputs": [],
   "source": [
    "def copy_range_wo_rem(range: XMASRange):\n",
    "    return XMASRange(range.x, range.m,range.a,range.s), None"
   ]
  },
  {
   "cell_type": "code",
   "execution_count": 43,
   "metadata": {},
   "outputs": [],
   "source": [
    "def parse_instruction(instruction):\n",
    "    if \"<\" in instruction:\n",
    "        field, value = instruction.split(\"<\")\n",
    "        value, flow = value.split(\":\")\n",
    "        value = int(value)\n",
    "        return Rule(field, (lambda range, field_name: split_range_less(range, field_name, value)), flow)\n",
    "    if \">\" in instruction:\n",
    "        field, value = instruction.split(\">\")\n",
    "        value, flow = value.split(\":\")\n",
    "        value = int(value)\n",
    "        return Rule(field, (lambda range, field_name: split_range_greater(range, field_name, value)), flow)\n",
    "    return Rule(\"x\", (lambda range, field_name: copy_range_wo_rem(range)), instruction)"
   ]
  },
  {
   "cell_type": "code",
   "execution_count": 44,
   "metadata": {},
   "outputs": [],
   "source": [
    "parsing_items = False\n",
    "with open(\"day19.txt\") as f:\n",
    "    lines = f.readlines()\n",
    "instructions = []\n",
    "workflows = {}\n",
    "items = []\n",
    "for i, line in enumerate(lines):\n",
    "    if len(line) > 3:\n",
    "        if i != len(lines) -1:\n",
    "            line = line[:-1]\n",
    "        if parsing_items:\n",
    "            values = line[1:-1]\n",
    "            values = values.split(',')\n",
    "            val_map = {}\n",
    "            for value in values:\n",
    "                name, v = value.split(\"=\")\n",
    "                val_map[name] = int(v)\n",
    "            #items.append(XMAS(val_map[\"x\"], val_map[\"m\"],val_map[\"a\"],val_map[\"s\"]))\n",
    "        else:\n",
    "        \n",
    "            name, instructions = line.split(\"{\")\n",
    "            instructions = instructions[:-1]\n",
    "            #print(f\"{name=} {instructions=}\")\n",
    "            instructions = instructions.split(\",\")\n",
    "            rules = [parse_instruction(instruction) for instruction in instructions]\n",
    "            workflow = Workflow(name, rules)\n",
    "            workflows[name] = workflow\n",
    "\n",
    "    else:\n",
    "        parsing_items = True\n",
    "workflows = Workflows(workflows)"
   ]
  },
  {
   "cell_type": "code",
   "execution_count": 45,
   "metadata": {},
   "outputs": [],
   "source": [
    "#items"
   ]
  },
  {
   "cell_type": "code",
   "execution_count": 46,
   "metadata": {},
   "outputs": [],
   "source": [
    "init_range = XMASRange((1,4000),(1,4000),(1,4000),(1,4000))\n",
    "accepted = workflows.compute_accepted(init_range)"
   ]
  },
  {
   "cell_type": "code",
   "execution_count": 47,
   "metadata": {},
   "outputs": [
    {
     "data": {
      "text/plain": [
       "116606738659695"
      ]
     },
     "execution_count": 47,
     "metadata": {},
     "output_type": "execute_result"
    }
   ],
   "source": [
    "total = 0\n",
    "for range, state in accepted:\n",
    "    total += range.compute_possibilities()\n",
    "total"
   ]
  }
 ],
 "metadata": {
  "kernelspec": {
   "display_name": "Python 3",
   "language": "python",
   "name": "python3"
  },
  "language_info": {
   "codemirror_mode": {
    "name": "ipython",
    "version": 3
   },
   "file_extension": ".py",
   "mimetype": "text/x-python",
   "name": "python",
   "nbconvert_exporter": "python",
   "pygments_lexer": "ipython3",
   "version": "3.11.1"
  }
 },
 "nbformat": 4,
 "nbformat_minor": 2
}
