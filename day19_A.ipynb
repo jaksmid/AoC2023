{
 "cells": [
  {
   "cell_type": "code",
   "execution_count": 32,
   "metadata": {},
   "outputs": [],
   "source": [
    "class Rule():\n",
    "    def __init__(self, field, operator, workflow) -> None:\n",
    "        self.field = field\n",
    "        self.operator = operator\n",
    "        self.workflow = workflow\n",
    "\n",
    "    def apply_rule(self, item):\n",
    "        value_to_check = getattr(item, self.field)\n",
    "        if self.operator(value_to_check):\n",
    "            return self.workflow\n",
    "        return None"
   ]
  },
  {
   "cell_type": "code",
   "execution_count": 33,
   "metadata": {},
   "outputs": [],
   "source": [
    "class Workflow():\n",
    "    def __init__(self, name, rules) -> None:\n",
    "        self.rules = rules\n",
    "        self.name = name\n",
    "\n",
    "    def apply_rules(self, item):\n",
    "        for rule in self.rules:\n",
    "            flow = rule.apply_rule(item)\n",
    "            if flow:\n",
    "                return flow\n"
   ]
  },
  {
   "cell_type": "code",
   "execution_count": 34,
   "metadata": {},
   "outputs": [],
   "source": [
    "class Workflows():\n",
    "    def __init__(self, workflows) -> None:\n",
    "        self.workflows = workflows\n",
    "\n",
    "    def is_accepted(self, item):\n",
    "        workflow_name = \"in\"\n",
    "        while workflow_name not in ['A', 'R']:\n",
    "            workflow = self.workflows[workflow_name]\n",
    "            workflow_name = workflow.apply_rules(item)\n",
    "        return workflow_name == 'A'"
   ]
  },
  {
   "cell_type": "code",
   "execution_count": 35,
   "metadata": {},
   "outputs": [],
   "source": [
    "def parse_instruction(instruction):\n",
    "    if \"<\" in instruction:\n",
    "        field, value = instruction.split(\"<\")\n",
    "        value, flow = value.split(\":\")\n",
    "        value = int(value)\n",
    "        return Rule(field, lambda x: x < value, flow)\n",
    "    if \">\" in instruction:\n",
    "        field, value = instruction.split(\">\")\n",
    "        value, flow = value.split(\":\")\n",
    "        value = int(value)\n",
    "        return Rule(field, lambda x: x > value, flow)\n",
    "    return Rule(\"x\", lambda x: True, instruction)"
   ]
  },
  {
   "cell_type": "code",
   "execution_count": 36,
   "metadata": {},
   "outputs": [],
   "source": [
    "class XMAS():\n",
    "    def __init__(self, x, m, a, s) -> None:\n",
    "        self.x = x\n",
    "        self.m = m\n",
    "        self.a = a\n",
    "        self.s = s\n",
    "\n",
    "    def get_xmas_val(self):\n",
    "        return self.x + self.m + self.a + self.s\n",
    "\n",
    "    def __repr__(self) -> str:\n",
    "        return f\"{self.x=} {self.m=} {self.a=} {self.s=}\""
   ]
  },
  {
   "cell_type": "code",
   "execution_count": 37,
   "metadata": {},
   "outputs": [],
   "source": [
    "parsing_items = False\n",
    "with open(\"day19.txt\") as f:\n",
    "    lines = f.readlines()\n",
    "instructions = []\n",
    "workflows = {}\n",
    "items = []\n",
    "for i, line in enumerate(lines):\n",
    "    if len(line) > 3:\n",
    "        if i != len(lines) -1:\n",
    "            line = line[:-1]\n",
    "        if parsing_items:\n",
    "            values = line[1:-1]\n",
    "            values = values.split(',')\n",
    "            val_map = {}\n",
    "            for value in values:\n",
    "                name, v = value.split(\"=\")\n",
    "                val_map[name] = int(v)\n",
    "            items.append(XMAS(val_map[\"x\"], val_map[\"m\"],val_map[\"a\"],val_map[\"s\"]))\n",
    "        else:\n",
    "        \n",
    "            name, instructions = line.split(\"{\")\n",
    "            instructions = instructions[:-1]\n",
    "            #print(f\"{name=} {instructions=}\")\n",
    "            instructions = instructions.split(\",\")\n",
    "            rules = [parse_instruction(instruction) for instruction in instructions]\n",
    "            workflow = Workflow(name, rules)\n",
    "            workflows[name] = workflow\n",
    "\n",
    "    else:\n",
    "        parsing_items = True\n",
    "workflows = Workflows(workflows)"
   ]
  },
  {
   "cell_type": "code",
   "execution_count": 38,
   "metadata": {},
   "outputs": [],
   "source": [
    "#items"
   ]
  },
  {
   "cell_type": "code",
   "execution_count": 39,
   "metadata": {},
   "outputs": [
    {
     "data": {
      "text/plain": [
       "352052"
      ]
     },
     "execution_count": 39,
     "metadata": {},
     "output_type": "execute_result"
    }
   ],
   "source": [
    "total = 0\n",
    "for item in items:\n",
    "   if workflows.is_accepted(item):\n",
    "      total += item.get_xmas_val()\n",
    "total"
   ]
  }
 ],
 "metadata": {
  "kernelspec": {
   "display_name": "Python 3",
   "language": "python",
   "name": "python3"
  },
  "language_info": {
   "codemirror_mode": {
    "name": "ipython",
    "version": 3
   },
   "file_extension": ".py",
   "mimetype": "text/x-python",
   "name": "python",
   "nbconvert_exporter": "python",
   "pygments_lexer": "ipython3",
   "version": "3.11.1"
  }
 },
 "nbformat": 4,
 "nbformat_minor": 2
}
