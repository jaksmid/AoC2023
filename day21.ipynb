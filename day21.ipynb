{
 "cells": [
  {
   "cell_type": "code",
   "execution_count": 43,
   "metadata": {},
   "outputs": [],
   "source": [
    "with open(\"day21.txt\") as f:\n",
    "    lines = f.readlines()\n",
    "current_pattern = []\n",
    "for i, line in enumerate(lines):\n",
    "    if i != len(lines) -1:\n",
    "            line = line[:-1]\n",
    "    if len(line) > 3:\n",
    "        line = line[:-1]\n",
    "        current_pattern.append(line)\n",
    "#current_pattern"
   ]
  },
  {
   "cell_type": "code",
   "execution_count": 44,
   "metadata": {},
   "outputs": [
    {
     "data": {
      "text/plain": [
       "(130, 131)"
      ]
     },
     "execution_count": 44,
     "metadata": {},
     "output_type": "execute_result"
    }
   ],
   "source": [
    "x_dim = len(current_pattern[0])\n",
    "y_dim = len(current_pattern)\n",
    "x_dim, y_dim"
   ]
  },
  {
   "cell_type": "code",
   "execution_count": 45,
   "metadata": {},
   "outputs": [],
   "source": [
    "import numpy as np\n",
    "symbols = np.zeros((y_dim, x_dim), dtype=\"str\")"
   ]
  },
  {
   "cell_type": "code",
   "execution_count": 46,
   "metadata": {},
   "outputs": [],
   "source": [
    "numbers = []\n",
    "for y, row in enumerate(current_pattern):\n",
    "    for x, val in enumerate(row):\n",
    "        symbols[y, x] = val\n"
   ]
  },
  {
   "cell_type": "code",
   "execution_count": 47,
   "metadata": {},
   "outputs": [],
   "source": [
    "def pretty_print(matrix):\n",
    "    print(str(matrix).replace(' ','').replace(\"'\",\"\").replace('[','').replace(']',''))"
   ]
  },
  {
   "cell_type": "code",
   "execution_count": 48,
   "metadata": {},
   "outputs": [],
   "source": [
    "#pretty_print(symbols)"
   ]
  },
  {
   "cell_type": "code",
   "execution_count": 49,
   "metadata": {},
   "outputs": [],
   "source": [
    "def safe_access(matrix, y, x):\n",
    "    sh = symbols.shape\n",
    "    y_max = symbols.shape[0]\n",
    "    x_max = symbols.shape[1]\n",
    "    if x < 0 or y < 0:\n",
    "        return\n",
    "    if x >= x_max or y >= y_max:\n",
    "        return\n",
    "    if matrix[y, x] != \"#\":\n",
    "        matrix[y, x] = \"O\""
   ]
  },
  {
   "cell_type": "code",
   "execution_count": 50,
   "metadata": {},
   "outputs": [
    {
     "data": {
      "text/plain": [
       "3671"
      ]
     },
     "execution_count": 50,
     "metadata": {},
     "output_type": "execute_result"
    }
   ],
   "source": [
    "current_symbols = symbols.copy()\n",
    "current_reached = symbols.copy()\n",
    "for step in range(64):\n",
    "    current_symbols = symbols.copy()\n",
    "    for y, row in enumerate(current_pattern):\n",
    "        for x, val in enumerate(row):\n",
    "           if current_reached[y, x] == 'O' or (step == 0 and current_reached[y, x] == 'S'):\n",
    "               safe_access(current_symbols, y+1, x)\n",
    "               safe_access(current_symbols, y-1, x)\n",
    "               safe_access(current_symbols, y, x-1)\n",
    "               safe_access(current_symbols, y, x+1)\n",
    "    #pretty_print(current_symbols)\n",
    "    current_reached = current_symbols\n",
    "    #print(\"--------------------\")\n",
    "    reached_total = 0\n",
    "for y, row in enumerate(current_pattern):\n",
    "    for x, val in enumerate(row):\n",
    "         if current_reached[y, x] == 'O':\n",
    "             reached_total += 1\n",
    "reached_total"
   ]
  }
 ],
 "metadata": {
  "kernelspec": {
   "display_name": "Python 3",
   "language": "python",
   "name": "python3"
  },
  "language_info": {
   "codemirror_mode": {
    "name": "ipython",
    "version": 3
   },
   "file_extension": ".py",
   "mimetype": "text/x-python",
   "name": "python",
   "nbconvert_exporter": "python",
   "pygments_lexer": "ipython3",
   "version": "3.11.1"
  }
 },
 "nbformat": 4,
 "nbformat_minor": 2
}
