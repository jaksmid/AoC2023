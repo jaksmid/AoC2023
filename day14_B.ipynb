{
 "cells": [
  {
   "cell_type": "code",
   "execution_count": 39,
   "metadata": {},
   "outputs": [],
   "source": [
    "import numpy as np\n",
    "from tqdm import tqdm"
   ]
  },
  {
   "cell_type": "code",
   "execution_count": 40,
   "metadata": {},
   "outputs": [
    {
     "data": {
      "text/plain": [
       "['.O....O.OOO..O.#.#.###.#O....OO..OO.O...O...O###..#.#....#.#....##..O.O.O##.......O.#.O.......##O#O.',\n",
       " '..#.#.#......O........O#OOOO#.O.#.#.#..O.#O...#..O...#..O.O#......#O...##O...O.#...O.O...##O.O.O...#',\n",
       " '.......O.OO..O.##.#..O.#...O#.#.......O.O.##.......#.O..#.......O.....#...O...#.#OO......#....#.....',\n",
       " '....#.....O#.O..O..#..#OO.#OO....#.......O..O.O...#.....#.O.....O..O.O....#..#O..O.#.O....O.......#O',\n",
       " '.........O.O....O.#O..#..........#O#......###.#..OO...#.O#O.O.O#....##...O.O..#.O..OO.#.OO...O#.OOO.',\n",
       " '.#O..#.O....#O...O#.........O#O..#O..#O.O.OO..O..#...#O...O..OOOO.....O..O.........O..#O##......O##.',\n",
       " '..O#.O.....#.O..O.#.O......O#O.#..#.O.O..#..O.O#..O..#O.....##.#....#..OO.#.........OO....#...O....O',\n",
       " '.O.O#..O.###....O#....O...#....O.O....O.O.O......O.O###OO.#.O...O..O..O.....O.#.O#..OO..O#.OO#OO.#OO',\n",
       " 'OO...#O#......#####OOO.O###...........O#....#.#.O.O.##...O#.O...........OO.#...#......O.O....#..O..#',\n",
       " '.O..OO....#.#.##O.O#..OO....#...O..O...O.O###.##O.......#O.....##.O..O##.....O...OO.#....#.#.O.....#',\n",
       " 'OOO#O.....O.O....O.O#....O.OOO........#..#.O..#...O...OO#.O...OO#..O..O.#..##.......#......O....O.O.',\n",
       " '......O..OOO..OOO..##OO...O...#.#.#..O..#..#OOO...O.O.O#......O#.....#..O#O...#.OO.....#.O.#.OOO..#.',\n",
       " 'O...........OOOO.OO#O....#........O...#.##......#.OO..O.OO.#.O.....OO#.#..#.OOO.#.#..#..O.....OO..#.',\n",
       " '....O..O.O.#....OO.#.#O..#....#..O#..........O..O.O#......#....###.O.#..#.#......O......O....#.#O..O',\n",
       " '....#O....#..OO..O#O.#.OO##O..O##..O..O.......##......OO..OOO#..O..OO....O.#..O##..#......#.O.....OO',\n",
       " '.O.#.O..##O#...##....##.#.O..#O#O.......#...O..........O.O.......O.....O..#.....#....#.O.#.#...O...O',\n",
       " '....###....#.....#O.#O###O#.O....#O#O.##.OO#.O#O..#..O..#..#.O##.............O....#O...#.....O...O##',\n",
       " '.O...##....O..#..#..O#.......O....O...O.O..#O...#.......#.......O.O..O#.O##..O.O......#...#......O..',\n",
       " '......O##..OOOO#.........O......O.#O.....#OO..#.O..OO......#.O...##.##...O#.........#.....#.........',\n",
       " '.#.....OO....OO..O.#OO#..#.#.##.O....O..OO.O.........O..O.O....##...#.O#.O..#........O#.O##.#...#.OO',\n",
       " '.O.#....O.O#......OO..#OOO.O........##.O.....#O......#.....OO..O#..O...O..O#O...........#.#O...#O...',\n",
       " '....O#O...#...#..#.##O...OO.#.#.O..#....O....#.O....##.........O.O.#...#...#....O...#...##.#..#...O.',\n",
       " '..#O##...O.OO.#.#....O...#...#....O...O....#.#.O.O.OO..O.OO.......#.O#....O##.O#.O..O##O........OO#.',\n",
       " '.#...##.#.O...O..........O.O##..##.O###..##...O..#.O.....O##O...O.....O.......O..#..#.O#.#....#O#...',\n",
       " 'O..#O#.O......#..##.O...O.##O.#...O....O.O.#....O........OO..#.O...O....###.O.O#.#O...O.#O.....#.O..',\n",
       " '#.O...O.O......O.O.O....O..#O...O..OO.OOO...#.O.OO....#......#.#.O.O#..O..O...#O#.......O.OO.##..O..',\n",
       " '..OO..#O#.O#..##....#..OOO...#O..O.O.#.#.OOO#.#...#.OO#O......#.#..#......OO..O..#..#..##..O#....O#.',\n",
       " '.OO#...O#O.#.#..O..#......O...O......O#.#.##O...#.#..#..#.###..O.###.#....O...O..#...#O......O....O.',\n",
       " 'O....#O..##...O...O..O#O#.....#O.....#..#.#....#...##..#.....#.#......###O....#OO#.##O..O.O....O....',\n",
       " '....O.###.....O...O.O...O...O#OO..#.#.....O.OO.....#O...##O#OOO.#..O...OO#O.O....O....O..#..O....#..',\n",
       " '...O..#O..O...O......##OO..O..O.....O....O..O##O.#OO..#O..O.#......#.O..#O.......O....O#...O.O.....O',\n",
       " '...O#O..#..O.O......O.....#..................#O..##.#....O..O....O#...##.O...#.O.#........#O#..#..OO',\n",
       " 'O....O.#.......#O#....O...O.#O...OO.O..OOO..#...#.OOOO.O..#..#....O.........#.#..O..#..#.#.O..OO.O..',\n",
       " '#O..O......O...O#......O#..#...O.#O.#.O...#.#.#.O....#O.#..O#...OO...#O#..O...#O.#.##O.O..O#O#.#O.O#',\n",
       " '#.##...O..O.O...##...O..#OO...OO........O....OO..OO.......O##.OO..#..#............#.O.......#.O.OO#.',\n",
       " 'O#..#.OO..##....#O..OO..#...#..#..###.#O...O#..#.....O.O.#OO.........O..O...#....#.#O....#.O.....O..',\n",
       " '..OO.O......O.OO.OO.....O..#OO...##.O.O.O.#.#O#..#...O...O...#...O...O...#.........#....#.#.O#......',\n",
       " 'O..#.....##O.#O....OOO.........O..#...#......##.#O.......O.OO....OO..OO..#.#...O#O..##........#O..O.',\n",
       " '##.O...#..#.O##.O......O...#....#.O..#...OO....O.OOO...#O#.#OO....##.#O......##......O..OO.......#..',\n",
       " '....O........#.O#...........O..#..#OO.OOO#.OO##...#.OO............##O...O.O.O#.....#..#.O.#.#.O...O.',\n",
       " 'O.#....O....#...O#O..#O.O..#..#O...#.O..O.O.....OO....OO##....O.O#.......#...O.....#OO.#....O.OOO...',\n",
       " 'O...#..#...#..OO...##.....#OO#O....#.#.OO.......O..O..O..#..#......O..OO...O.OO.O..OO#..###O#O.....#',\n",
       " '........OO#.O..#.....###....O........O....O.O..O#.OOO....#OO##.O#OO.......#.O......O.O......O...O.O.',\n",
       " '...#.#...#O..#...O.#.OO.O........O#....#O..O..O.O#.O...#..#.OO.OOOO.#...#...O...#O..#..OOO..O...O#.O',\n",
       " 'O.OO#O#.#.#O..O#OOO..O..#.##..#.##OO#.#..#O.O#O.O...OO...O..O.......O.......##........#.##.......#..',\n",
       " 'OO.O.##.#.#...#...OO##.....#.O...#....O#.#.O..O..#...#....#O...OO....#.O...##O....#O.O..O#O...OO#.#O',\n",
       " '.#...#....#....O#.O..#...OO##...O.#.#......#.O###.O.#OO....#......OO.......O#..#O#.OO..O.O......#O#.',\n",
       " '..O#..O..O....#.#..#OOO....##O..#...O...##..##..##.O.O#...O......#........OOOO..O#.....O.#.#O.....#.',\n",
       " '.#..#.O.........#..........OO.#...#.#..O...##OOO.......O..O###..#...#.......#.OO#..O..#....#OO......',\n",
       " '.O..#.##.O..#..O....#.O......O#.......#..O.OO..O...#....##..O.#O.#..#.##O#.O..OO#O.#..O...#.#.O.O#.O',\n",
       " '##....OO..##.OO....OO#.O#.O.#..#...O..#.#.O...O.O......O#...#.##.O........OO.....#O...##.#..OO.....O',\n",
       " '..#.OOO......O.....O.#..O..O##..O..#.#...OO..#..O....O..#.#O........#.#.O...#.O....#...O...O......O.',\n",
       " '..O#..#.#.#.O...O#..O.O..O.O#O...O..O..#O...#..O.O....#....O#...#O..##.#O..O.##O.O.#..O.O.....OO...O',\n",
       " '..#.....OO....O.O..#....OO..O...#.#..OO..#O..#...O..O..#.##.OO.O.O.O.O.....#..#...#O.##..O...O.#.#..',\n",
       " '....O...O....OO.......O.O.....O....OO...###..O##.......#...#O.#.O....O..#.O...#.OO#..O#.#..#...##...',\n",
       " '...#O....OOO.OO..#.#.O.O.O.#..O..O#...O.#O..........#..#OO...#.O..#O...OOO..#...#....#...O.OO#O....O',\n",
       " 'O...O....O.O...#...##O...O....OO#O.O##.##..O..#...OO.......#....OOO.O.#.#....O...OOOO.#.....#....#O.',\n",
       " '.....OOO....O..O.#..O#O#......OO...........#......O.OO.OO.#..O..#.O#.OOOOO.O..##OO...O..#.O..O.O.O.O',\n",
       " '#..#.O..OO....#.###O...O....#O#O#OO...O.O#.....OO.O..O.O......O.OOO#.........O.#..O..O.O.O#.O.O..OO.',\n",
       " '#O.O..#....#O.#..O#OO....O........#.....O...##...OOOO.O............O.....OO.O....##O..##.#......O...',\n",
       " 'O#.#..#.O.....#O....#.#..O.O.......O..O...#OO....#...OO.#....O.O.O.....O...#O.#O.O.O#....O#.........',\n",
       " '..O.O......O..#.O..O..O#OO........O..#.O.#.....O#O#O#.#O#..##O....OO.#..O.O#..OO.....OO.OO......##O#',\n",
       " '.OOOO.##.#.#......O..O...O##O##.O.OOO#.O.O.OO....O.......O.#....O..##......#...O..#..##O#OO..##...O.',\n",
       " '......#O.##....#...O.#.#.O##..O.#.......##.OO#O#.##..O.....#.#.#O.....#O.O#O......O....#.#....O#.OOO',\n",
       " '..#......#..O#.......O#.#OOO...#...O#............O.O.#.#O..##...#O#O....#.....##O#.O.OO...O...O#.OO.',\n",
       " '.#.O.#.#.OOO..#.#.O#...#..#...O...O...O#.OO...OO.O#..O.#...OO#.#..O....#.O#.O#..O#.##.O.O..O.O#.O.O.',\n",
       " 'O.O#.OO#O.OO#O.....O.O.O.O...#OO....#.#...O.O.OO.O#.#.O.OO..#.O.O...#.....#....OOO....#.O.O.OO#...O.',\n",
       " 'O#O......O......O..#......O.....#O#O..O......#...O....O#O##.....O#....#...#.#.....OO#.O.O.O#OO..#.#O',\n",
       " 'O#.....#.O#O.#.....O.OOOO........#.#O......OO.O.O.....O....#O.##.O.....OO....O#..O......O......#..OO',\n",
       " '..#..#..OO..#.#...#O...###...O...#.#....O...O.#..O...O.O.#......#......#O.O...#OO.#O...#.O....O...O#',\n",
       " 'OOO.O.OO..#.O.#O.OO.........#..........#.O#......O..#O.#..#O......#..#.O#.......O..............O..O.',\n",
       " '.OO.O.....OO...O.O..##....O.......OO..#O##..O..#.#.O#.#.O.....#..#.O.......O.##.O..#.OO.OO..........',\n",
       " '.........##O.#.#......#...O...##OO.OO....OO...#.OOO#.....O..#...#O.O..##.O#.O...........O#.O#.#O.O..',\n",
       " '..O#..#O#..........OO.O......#...O.....O.O#..O#.#..........OO...#.#...O##....OO.#O.....##O...O.#....',\n",
       " '.###.O.#O.#....O.#.#O#..O..........O..#.##O.#...O.O#..#..#O.O.##...#O....O.#..O.O..#.O..#O#.#......O',\n",
       " 'OO.......#.O...##..#.#..#OO...O...............OO#.....#.O...#.........#..O...O....O.....##..O.......',\n",
       " '.#..O..##.OO..O#...O.....OOO.#..O#.OO...##.O.OO.O...OO.O.O#O.....O#...........#..OOO.OO##.O#..#OO.O.',\n",
       " '.O.....O..#...O..O......O.O...O.....O........O...#.#O...O#O.O...###.O..O.O...#O...O.O.OO.O.O...O#OO.',\n",
       " '.............#...#O..O#O.O.O....O................#....O....#O.O..........OO#.##..#.O##.........#....',\n",
       " '#O##O#OOO.#..O..O....O..O.##..OOO..O.O...............O..O.O#O.###......O...O......OOO.##.#...OO..O.#',\n",
       " 'O...OO#O.O#.OO..OO........#.O....O...#........O...#..O...##O...O#...........#.O.#...O#...O#..#OO..O.',\n",
       " '.##O.#...O...O....#O#...#O.O#.O##...#....O#..#..#OO....#......#..O#..O.O..O...O..........O...#..O...',\n",
       " '.....O...#...........O..O..##.....O.OO.....#O..OO..#..O.....#......O...##O##.#.#...O.OO.OO##.#.#..#.',\n",
       " '#..O...#.##O#.#OO..##O....O...#.O.#O#..O...OO..O....O#O#.#....O...........O......##O.....#...#...##O',\n",
       " 'O..........OO..O.#..O.#...O.#.#.#......#.O..O#......O....O.O.O.O.##.O#..##....O#O#....O........#.O.O',\n",
       " 'OO...##.....O..O.#O...O..OO.#.O.O.#.O.........O...O.O.O.O.#.#O...O..#.O.....#....#..#...O#..#..O...#',\n",
       " 'O##...#OO#.##.OO.O..#..OO.......OO.OO#.OO..O.......O.......OOO.#...#O#O.#..O......O..O.....#...##.#.',\n",
       " '#..O..#.OO.#.O.O.O.#.O##...#.O.O....###......O#OO.......OO..OO....#...O...#.........OO....O.......O.',\n",
       " '...#.#.##.....#...........O.OO.....O.OO..O.O..#..#....#..#O..O#....O#OO##.#.....O.....#.......O#O.O.',\n",
       " '.#..O.#...##...O.O.#...O.....#O.#O..#.OOO...........##.....#.#O#.##....OO#.O.....O.....OO.O.O.OO....',\n",
       " '#O#..OO..O#..O..O...OO.OO.#.....OO.......#.....O.O.O#..OOO......O.#..#O...O..O..O.#....O.O..OO#OO#..',\n",
       " 'O.###O.O...O.....O..#.O..O...O..OO##.O..##..O..O...##O.#....#.O.O....O.O.........#OO#O....O.....O..O',\n",
       " '........#.O...O...#.#.#OO.O.#.O.....O#...O....O..#....#..O..#..........OO..#.O....OO.O..O...OOO...O#',\n",
       " '.#.#...........O.O.......#.#O..O....#O..O...O.O..O..#.#.....O.....O.#...OO.O....#O..O.O#.O.....#....',\n",
       " '.O.#...##.#.OO..#O...#....#.#.......#...#O....#.....O...O#.#.OO.#.O#.....OO....#.OO..#..O.O.OO....O.',\n",
       " '.OO#OO#.##.##OO..O.....O..O#OO.O.#....#....#.OO##..#..#.........#..............OO...O.....O.......#.',\n",
       " '..O.....#..#.......O..#O...#...#.O.........###.#...O.O.#....O................O.#O#O#..O..#.#...#..#O',\n",
       " '..#O...O.......OO#.#..#O.....OO.OO..O..##....#.O#...#.O..O.OO.....#..O...OO.O.O....#O..O.#..#......O',\n",
       " '.O.......O.....O..O...#.....O..O##..#......O.#...O#O.#.O.O.O.OO.O.#......OO.OOO.O#.OOO#O...#..#.O...',\n",
       " '...O.O#.OOO##.O#O...O##.O....O..O.##.#OO..O#.O.O...OOO#..O...##......#O........O..O.O....O........OO']"
      ]
     },
     "execution_count": 40,
     "metadata": {},
     "output_type": "execute_result"
    }
   ],
   "source": [
    "patterns = []\n",
    "with open(\"day14.txt\") as f:\n",
    "    lines = f.readlines()\n",
    "current_pattern = []\n",
    "for line in lines:\n",
    "    if len(line) > 3:\n",
    "        line = line[:-1]\n",
    "        current_pattern.append(line)\n",
    "    else:\n",
    "        patterns.append(current_pattern)\n",
    "        current_pattern = []\n",
    "patterns.append(current_pattern)\n",
    "patterns[0]\n",
    "#beware - new line must be at input"
   ]
  },
  {
   "cell_type": "code",
   "execution_count": 41,
   "metadata": {},
   "outputs": [
    {
     "data": {
      "text/plain": [
       "(100, 100)"
      ]
     },
     "execution_count": 41,
     "metadata": {},
     "output_type": "execute_result"
    }
   ],
   "source": [
    "pattern = patterns[0]\n",
    "x_dim = len(pattern[0])\n",
    "y_dim = len(pattern)\n",
    "x_dim, y_dim"
   ]
  },
  {
   "cell_type": "code",
   "execution_count": 42,
   "metadata": {},
   "outputs": [],
   "source": [
    "symbols = np.zeros((y_dim, x_dim), dtype=\"str\")"
   ]
  },
  {
   "cell_type": "code",
   "execution_count": 43,
   "metadata": {},
   "outputs": [],
   "source": [
    "numbers = []\n",
    "for y, row in enumerate(pattern):\n",
    "    for x, val in enumerate(row):\n",
    "        symbols[y, x] = val"
   ]
  },
  {
   "cell_type": "code",
   "execution_count": 44,
   "metadata": {},
   "outputs": [],
   "source": [
    "def pretty_print(matrix):\n",
    "    print(str(matrix).replace(' ','').replace(\"'\",\"\").replace('[','').replace(']',''))"
   ]
  },
  {
   "cell_type": "code",
   "execution_count": 45,
   "metadata": {},
   "outputs": [
    {
     "name": "stdout",
     "output_type": "stream",
     "text": [
      ".O....#O.\n",
      "..#.....#\n",
      ".........\n",
      "...\n",
      "..#.....O\n",
      ".O.......\n",
      ".......OO\n"
     ]
    }
   ],
   "source": [
    "pretty_print(symbols)"
   ]
  },
  {
   "cell_type": "code",
   "execution_count": 46,
   "metadata": {},
   "outputs": [],
   "source": [
    "from functools import cache\n",
    "\n",
    "\n",
    "@cache\n",
    "def calculate_weight(round_rocks, distance_from_south):\n",
    "    if round_rocks:\n",
    "        return distance_from_south + calculate_weight(round_rocks-1, distance_from_south-1) # could be replaced by formula\n",
    "    return 0"
   ]
  },
  {
   "cell_type": "code",
   "execution_count": 47,
   "metadata": {},
   "outputs": [
    {
     "data": {
      "text/plain": [
       "3"
      ]
     },
     "execution_count": 47,
     "metadata": {},
     "output_type": "execute_result"
    }
   ],
   "source": [
    "calculate_weight(2,2)"
   ]
  },
  {
   "cell_type": "code",
   "execution_count": 48,
   "metadata": {},
   "outputs": [],
   "source": [
    "y_dim = len(pattern)\n",
    "x_dim = len(pattern[0])"
   ]
  },
  {
   "cell_type": "code",
   "execution_count": 49,
   "metadata": {},
   "outputs": [
    {
     "name": "stdout",
     "output_type": "stream",
     "text": [
      ".O....#O.\n",
      "..#.....#\n",
      ".........\n",
      "...\n",
      "..#.....O\n",
      ".O.......\n",
      ".......OO\n"
     ]
    }
   ],
   "source": [
    "pretty_print(symbols)"
   ]
  },
  {
   "cell_type": "code",
   "execution_count": 50,
   "metadata": {},
   "outputs": [],
   "source": [
    "input_symbols = symbols.copy()"
   ]
  },
  {
   "cell_type": "code",
   "execution_count": 51,
   "metadata": {},
   "outputs": [
    {
     "name": "stdout",
     "output_type": "stream",
     "text": [
      ".O....#O.\n",
      "..#.....#\n",
      ".........\n",
      "...\n",
      "..#.....O\n",
      ".O.......\n",
      ".......OO\n"
     ]
    }
   ],
   "source": [
    "pretty_print(input_symbols)"
   ]
  },
  {
   "cell_type": "code",
   "execution_count": 52,
   "metadata": {},
   "outputs": [],
   "source": [
    "def tilt_north(new_symbols, x_dim, y_dim):\n",
    "    for x in range(x_dim):\n",
    "        current_small_rocks = 0\n",
    "        for distance_from_south in range(y_dim):\n",
    "            current_symbol = new_symbols[y_dim-distance_from_south-1, x]\n",
    "            #print(current_symbol)\n",
    "            if current_symbol == \"O\":\n",
    "                current_small_rocks += 1\n",
    "                new_symbols[y_dim-distance_from_south-1, x] = \".\"\n",
    "            elif current_symbol == \"#\":\n",
    "                for new_symbol_position in range(y_dim-distance_from_south, y_dim-distance_from_south+current_small_rocks):\n",
    "                    new_symbols[new_symbol_position, x] = \"O\"\n",
    "                current_small_rocks = 0\n",
    "        if current_small_rocks:\n",
    "            for new_symbol_position in range(current_small_rocks):\n",
    "                        new_symbols[new_symbol_position, x] = \"O\"\n",
    "    return new_symbols"
   ]
  },
  {
   "cell_type": "code",
   "execution_count": 53,
   "metadata": {},
   "outputs": [],
   "source": [
    "def till_south(new_symbols, x_dim, y_dim):\n",
    "    return np.flip(tilt_north(np.flip(new_symbols, axis=0), x_dim, y_dim), axis=0)"
   ]
  },
  {
   "cell_type": "code",
   "execution_count": 54,
   "metadata": {},
   "outputs": [],
   "source": [
    "def till_west(new_symbols, x_dim, y_dim):\n",
    "    for y in range(y_dim):\n",
    "        current_small_rocks = 0\n",
    "        for distance_from_west in range(x_dim):\n",
    "            current_symbol = new_symbols[y, x_dim-distance_from_west-1]\n",
    "            #print(current_symbol)\n",
    "            if current_symbol == \"O\":\n",
    "                current_small_rocks += 1\n",
    "                new_symbols[y, x_dim-distance_from_west-1 ] = \".\"\n",
    "            elif current_symbol == \"#\":\n",
    "                for new_symbol_position in range(x_dim-distance_from_west, x_dim-distance_from_west+current_small_rocks):\n",
    "                    new_symbols[y, new_symbol_position] = \"O\"\n",
    "                current_small_rocks = 0\n",
    "        if current_small_rocks:\n",
    "            for new_symbol_position in range(current_small_rocks):\n",
    "                        new_symbols[y, new_symbol_position] = \"O\"\n",
    "    return new_symbols"
   ]
  },
  {
   "cell_type": "code",
   "execution_count": 55,
   "metadata": {},
   "outputs": [],
   "source": [
    "def till_east(new_symbols, x_dim, y_dim):\n",
    "    return np.flip(till_west(np.flip(new_symbols, axis=1), x_dim, y_dim), axis=1)"
   ]
  },
  {
   "cell_type": "code",
   "execution_count": 56,
   "metadata": {},
   "outputs": [
    {
     "name": "stdout",
     "output_type": "stream",
     "text": [
      ".O....#O.\n",
      "..#.....#\n",
      ".........\n",
      "...\n",
      "..#.....O\n",
      ".O.......\n",
      ".......OO\n"
     ]
    }
   ],
   "source": [
    "new_symbols = input_symbols.copy()\n",
    "pretty_print(new_symbols)"
   ]
  },
  {
   "cell_type": "code",
   "execution_count": 57,
   "metadata": {},
   "outputs": [
    {
     "name": "stdout",
     "output_type": "stream",
     "text": [
      "OO....#O.\n",
      "O.#...O.#\n",
      "O.O.....O\n",
      "...\n",
      "..#....O.\n",
      ".........\n",
      ".........\n"
     ]
    }
   ],
   "source": [
    "north = tilt_north(new_symbols, x_dim, y_dim)\n",
    "pretty_print(north)"
   ]
  },
  {
   "cell_type": "code",
   "execution_count": 58,
   "metadata": {},
   "outputs": [
    {
     "name": "stdout",
     "output_type": "stream",
     "text": [
      "OOO...#O.\n",
      "O.#.....#\n",
      "OOO...O..\n",
      "...\n",
      "..#......\n",
      ".........\n",
      ".........\n"
     ]
    }
   ],
   "source": [
    "west = till_west(north.copy(), x_dim, y_dim)\n",
    "pretty_print(west)"
   ]
  },
  {
   "cell_type": "code",
   "execution_count": 59,
   "metadata": {},
   "outputs": [
    {
     "name": "stdout",
     "output_type": "stream",
     "text": [
      "..O...#..\n",
      ".O#.....#\n",
      ".O.....O.\n",
      "...\n",
      "O.#......\n",
      "O........\n",
      "OO......O\n"
     ]
    }
   ],
   "source": [
    "south = till_south(west.copy(), x_dim, y_dim)\n",
    "pretty_print(south)"
   ]
  },
  {
   "cell_type": "code",
   "execution_count": 60,
   "metadata": {},
   "outputs": [
    {
     "name": "stdout",
     "output_type": "stream",
     "text": [
      "......#..\n",
      ".O#....O#\n",
      "........O\n",
      "...\n",
      ".O#....OO\n",
      "........O\n",
      ".OO...OOO\n"
     ]
    }
   ],
   "source": [
    "east = till_east(south.copy(), x_dim, y_dim)\n",
    "pretty_print(east)"
   ]
  },
  {
   "cell_type": "code",
   "execution_count": 61,
   "metadata": {},
   "outputs": [],
   "source": [
    "visited = set()"
   ]
  },
  {
   "cell_type": "code",
   "execution_count": 62,
   "metadata": {},
   "outputs": [],
   "source": [
    "# find cycle length - seems the config will repeat after some time\n",
    "def find_repeat_length(new_symbols, x_dim, y_dim):   \n",
    "    cycle = 0 \n",
    "    while True:\n",
    "        key = tuple(new_symbols.flatten())\n",
    "        if key in visited:\n",
    "            return cycle\n",
    "        visited.add(key)\n",
    "        north = tilt_north(new_symbols, x_dim, y_dim)\n",
    "        west = till_west(north, x_dim, y_dim)\n",
    "        south = till_south(west, x_dim, y_dim)\n",
    "        east = till_east(south, x_dim, y_dim)\n",
    "        new_symbols = east\n",
    "        cycle += 1"
   ]
  },
  {
   "cell_type": "code",
   "execution_count": 63,
   "metadata": {},
   "outputs": [],
   "source": [
    "def calculate_load(new_symbols, x_dim, y_dim):\n",
    "    total_weight = 0\n",
    "    for x in range(x_dim):\n",
    "        for distance_from_south in range(y_dim):\n",
    "            current_symbol = new_symbols[y_dim-distance_from_south-1, x]\n",
    "            #print(current_symbol)\n",
    "            if current_symbol == \"O\":\n",
    "                total_weight += distance_from_south+1\n",
    "    return total_weight"
   ]
  },
  {
   "cell_type": "code",
   "execution_count": 64,
   "metadata": {},
   "outputs": [],
   "source": [
    "def do_cycles(new_symbols, x_dim, y_dim, cycles=1):\n",
    "    results = []    \n",
    "    for _ in range(cycles):\n",
    "        north = tilt_north(new_symbols, x_dim, y_dim)\n",
    "        west = till_west(north, x_dim, y_dim)\n",
    "        south = till_south(west, x_dim, y_dim)\n",
    "        east = till_east(south, x_dim, y_dim)\n",
    "        new_symbols = east\n",
    "        weight = calculate_load(new_symbols, x_dim, y_dim)\n",
    "        results.append(weight)\n",
    "    return results"
   ]
  },
  {
   "cell_type": "code",
   "execution_count": 65,
   "metadata": {},
   "outputs": [],
   "source": [
    "cycles = 1000000000"
   ]
  },
  {
   "cell_type": "code",
   "execution_count": 66,
   "metadata": {},
   "outputs": [
    {
     "data": {
      "text/plain": [
       "151"
      ]
     },
     "execution_count": 66,
     "metadata": {},
     "output_type": "execute_result"
    }
   ],
   "source": [
    "new_symbols = input_symbols.copy()\n",
    "repeat_cycle = find_repeat_length(new_symbols, x_dim, y_dim)\n",
    "repeat_cycle"
   ]
  },
  {
   "cell_type": "code",
   "execution_count": 67,
   "metadata": {},
   "outputs": [],
   "source": [
    "#equivalent_cycles = repeat_cycle + (cycles % repeat_cycle)\n",
    "equivalent_cycles = 1000"
   ]
  },
  {
   "cell_type": "code",
   "execution_count": 68,
   "metadata": {},
   "outputs": [],
   "source": [
    "#new_symbols = input_symbols.copy()\n",
    "#new_symbols = do_cycles(new_symbols, x_dim, y_dim, 10000)\n",
    "#pretty_print(new_symbols)"
   ]
  },
  {
   "cell_type": "code",
   "execution_count": 69,
   "metadata": {},
   "outputs": [
    {
     "data": {
      "text/plain": [
       "[100410,\n",
       " 100331,\n",
       " 100112,\n",
       " 99906,\n",
       " 99813,\n",
       " 99754,\n",
       " 99654,\n",
       " 99581,\n",
       " 99475,\n",
       " 99325,\n",
       " 99249,\n",
       " 99180,\n",
       " 99184,\n",
       " 99169,\n",
       " 99160,\n",
       " 99064,\n",
       " 99009,\n",
       " 98925,\n",
       " 98920,\n",
       " 98867,\n",
       " 98826,\n",
       " 98758,\n",
       " 98690,\n",
       " 98603,\n",
       " 98538,\n",
       " 98455,\n",
       " 98433,\n",
       " 98372,\n",
       " 98340,\n",
       " 98302,\n",
       " 98262,\n",
       " 98191,\n",
       " 98149,\n",
       " 98080,\n",
       " 98003,\n",
       " 97929,\n",
       " 97844,\n",
       " 97717,\n",
       " 97608,\n",
       " 97463,\n",
       " 97331,\n",
       " 97175,\n",
       " 97039,\n",
       " 96875,\n",
       " 96745,\n",
       " 96602,\n",
       " 96483,\n",
       " 96324,\n",
       " 96225,\n",
       " 96081,\n",
       " 95952,\n",
       " 95822,\n",
       " 95725,\n",
       " 95602,\n",
       " 95537,\n",
       " 95461,\n",
       " 95389,\n",
       " 95311,\n",
       " 95268,\n",
       " 95244,\n",
       " 95231,\n",
       " 95211,\n",
       " 95172,\n",
       " 95140,\n",
       " 95121,\n",
       " 95062,\n",
       " 95008,\n",
       " 94951,\n",
       " 94895,\n",
       " 94844,\n",
       " 94808,\n",
       " 94768,\n",
       " 94716,\n",
       " 94671,\n",
       " 94627,\n",
       " 94588,\n",
       " 94563,\n",
       " 94526,\n",
       " 94510,\n",
       " 94487,\n",
       " 94491,\n",
       " 94502,\n",
       " 94511,\n",
       " 94535,\n",
       " 94560,\n",
       " 94591,\n",
       " 94618,\n",
       " 94620,\n",
       " 94615,\n",
       " 94585,\n",
       " 94565,\n",
       " 94537,\n",
       " 94510,\n",
       " 94493,\n",
       " 94487,\n",
       " 94494,\n",
       " 94517,\n",
       " 94536,\n",
       " 94565,\n",
       " 94587,\n",
       " 94610,\n",
       " 94626,\n",
       " 94616,\n",
       " 94590,\n",
       " 94561,\n",
       " 94529,\n",
       " 94516,\n",
       " 94494,\n",
       " 94492,\n",
       " 94490,\n",
       " 94509,\n",
       " 94542,\n",
       " 94566,\n",
       " 94592,\n",
       " 94606,\n",
       " 94618,\n",
       " 94622,\n",
       " 94591,\n",
       " 94566,\n",
       " 94525,\n",
       " 94508,\n",
       " 94500,\n",
       " 94493,\n",
       " 94495,\n",
       " 94505,\n",
       " 94534,\n",
       " 94572,\n",
       " 94593,\n",
       " 94611,\n",
       " 94614,\n",
       " 94614,\n",
       " 94597,\n",
       " 94567,\n",
       " 94530,\n",
       " 94504,\n",
       " 94492,\n",
       " 94499,\n",
       " 94496,\n",
       " 94510,\n",
       " 94530,\n",
       " 94564,\n",
       " 94599,\n",
       " 94612,\n",
       " 94619,\n",
       " 94610,\n",
       " 94589,\n",
       " 94573,\n",
       " 94531,\n",
       " 94509,\n",
       " 94488,\n",
       " 94491,\n",
       " 94502,\n",
       " 94511,\n",
       " 94535,\n",
       " 94560,\n",
       " 94591,\n",
       " 94618,\n",
       " 94620,\n",
       " 94615,\n",
       " 94585,\n",
       " 94565,\n",
       " 94537,\n",
       " 94510,\n",
       " 94493,\n",
       " 94487,\n",
       " 94494,\n",
       " 94517,\n",
       " 94536,\n",
       " 94565,\n",
       " 94587,\n",
       " 94610,\n",
       " 94626,\n",
       " 94616,\n",
       " 94590,\n",
       " 94561,\n",
       " 94529,\n",
       " 94516,\n",
       " 94494,\n",
       " 94492,\n",
       " 94490,\n",
       " 94509,\n",
       " 94542,\n",
       " 94566,\n",
       " 94592,\n",
       " 94606,\n",
       " 94618,\n",
       " 94622,\n",
       " 94591,\n",
       " 94566,\n",
       " 94525,\n",
       " 94508,\n",
       " 94500,\n",
       " 94493,\n",
       " 94495,\n",
       " 94505,\n",
       " 94534,\n",
       " 94572,\n",
       " 94593,\n",
       " 94611,\n",
       " 94614,\n",
       " 94614,\n",
       " 94597,\n",
       " 94567,\n",
       " 94530,\n",
       " 94504,\n",
       " 94492,\n",
       " 94499,\n",
       " 94496,\n",
       " 94510,\n",
       " 94530,\n",
       " 94564,\n",
       " 94599,\n",
       " 94612,\n",
       " 94619,\n",
       " 94610,\n",
       " 94589,\n",
       " 94573,\n",
       " 94531,\n",
       " 94509,\n",
       " 94488,\n",
       " 94491,\n",
       " 94502,\n",
       " 94511,\n",
       " 94535,\n",
       " 94560,\n",
       " 94591,\n",
       " 94618,\n",
       " 94620,\n",
       " 94615,\n",
       " 94585,\n",
       " 94565,\n",
       " 94537,\n",
       " 94510,\n",
       " 94493,\n",
       " 94487,\n",
       " 94494,\n",
       " 94517,\n",
       " 94536,\n",
       " 94565,\n",
       " 94587,\n",
       " 94610,\n",
       " 94626,\n",
       " 94616,\n",
       " 94590,\n",
       " 94561,\n",
       " 94529,\n",
       " 94516,\n",
       " 94494,\n",
       " 94492,\n",
       " 94490,\n",
       " 94509,\n",
       " 94542,\n",
       " 94566,\n",
       " 94592,\n",
       " 94606,\n",
       " 94618,\n",
       " 94622,\n",
       " 94591,\n",
       " 94566,\n",
       " 94525,\n",
       " 94508,\n",
       " 94500,\n",
       " 94493,\n",
       " 94495,\n",
       " 94505,\n",
       " 94534,\n",
       " 94572,\n",
       " 94593,\n",
       " 94611,\n",
       " 94614,\n",
       " 94614,\n",
       " 94597,\n",
       " 94567,\n",
       " 94530,\n",
       " 94504,\n",
       " 94492,\n",
       " 94499,\n",
       " 94496,\n",
       " 94510,\n",
       " 94530,\n",
       " 94564,\n",
       " 94599,\n",
       " 94612,\n",
       " 94619,\n",
       " 94610,\n",
       " 94589,\n",
       " 94573,\n",
       " 94531,\n",
       " 94509,\n",
       " 94488,\n",
       " 94491,\n",
       " 94502,\n",
       " 94511,\n",
       " 94535,\n",
       " 94560,\n",
       " 94591,\n",
       " 94618,\n",
       " 94620,\n",
       " 94615,\n",
       " 94585,\n",
       " 94565,\n",
       " 94537,\n",
       " 94510,\n",
       " 94493,\n",
       " 94487,\n",
       " 94494,\n",
       " 94517,\n",
       " 94536,\n",
       " 94565,\n",
       " 94587,\n",
       " 94610,\n",
       " 94626,\n",
       " 94616,\n",
       " 94590,\n",
       " 94561,\n",
       " 94529,\n",
       " 94516,\n",
       " 94494,\n",
       " 94492,\n",
       " 94490,\n",
       " 94509,\n",
       " 94542,\n",
       " 94566,\n",
       " 94592,\n",
       " 94606,\n",
       " 94618,\n",
       " 94622,\n",
       " 94591,\n",
       " 94566,\n",
       " 94525,\n",
       " 94508,\n",
       " 94500,\n",
       " 94493,\n",
       " 94495,\n",
       " 94505,\n",
       " 94534,\n",
       " 94572,\n",
       " 94593,\n",
       " 94611,\n",
       " 94614,\n",
       " 94614,\n",
       " 94597,\n",
       " 94567,\n",
       " 94530,\n",
       " 94504,\n",
       " 94492,\n",
       " 94499,\n",
       " 94496,\n",
       " 94510,\n",
       " 94530]"
      ]
     },
     "execution_count": 69,
     "metadata": {},
     "output_type": "execute_result"
    }
   ],
   "source": [
    "\n",
    "new_symbols = input_symbols.copy()\n",
    "results = do_cycles(new_symbols, x_dim, y_dim, 350)\n",
    "results\n",
    "    \n",
    "#pretty_print(new_symbols)"
   ]
  },
  {
   "cell_type": "markdown",
   "metadata": {},
   "source": [
    "# you can see there is a cycle (271 to 341)"
   ]
  },
  {
   "cell_type": "code",
   "execution_count": 70,
   "metadata": {},
   "outputs": [
    {
     "data": {
      "text/plain": [
       "94597"
      ]
     },
     "execution_count": 70,
     "metadata": {},
     "output_type": "execute_result"
    }
   ],
   "source": [
    "results[271]"
   ]
  },
  {
   "cell_type": "code",
   "execution_count": 71,
   "metadata": {},
   "outputs": [
    {
     "data": {
      "text/plain": [
       "94597"
      ]
     },
     "execution_count": 71,
     "metadata": {},
     "output_type": "execute_result"
    }
   ],
   "source": [
    "results[341]"
   ]
  },
  {
   "cell_type": "code",
   "execution_count": 72,
   "metadata": {},
   "outputs": [],
   "source": [
    "start = results[:271]"
   ]
  },
  {
   "cell_type": "code",
   "execution_count": 73,
   "metadata": {},
   "outputs": [],
   "source": [
    "toapp = results[271:341]"
   ]
  },
  {
   "cell_type": "code",
   "execution_count": 74,
   "metadata": {},
   "outputs": [],
   "source": [
    "index = (cycles - len(start)) % len(toapp)"
   ]
  },
  {
   "cell_type": "code",
   "execution_count": 76,
   "metadata": {},
   "outputs": [
    {
     "data": {
      "text/plain": [
       "[94585, 94565]"
      ]
     },
     "execution_count": 76,
     "metadata": {},
     "output_type": "execute_result"
    }
   ],
   "source": [
    "toapp[index-1: index+1]"
   ]
  }
 ],
 "metadata": {
  "kernelspec": {
   "display_name": "Python 3",
   "language": "python",
   "name": "python3"
  },
  "language_info": {
   "codemirror_mode": {
    "name": "ipython",
    "version": 3
   },
   "file_extension": ".py",
   "mimetype": "text/x-python",
   "name": "python",
   "nbconvert_exporter": "python",
   "pygments_lexer": "ipython3",
   "version": "3.11.1"
  }
 },
 "nbformat": 4,
 "nbformat_minor": 2
}
