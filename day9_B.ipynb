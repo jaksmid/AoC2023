{
 "cells": [
  {
   "cell_type": "code",
   "execution_count": 30,
   "metadata": {},
   "outputs": [],
   "source": [
    "import pandas as pd"
   ]
  },
  {
   "cell_type": "code",
   "execution_count": 31,
   "metadata": {},
   "outputs": [],
   "source": [
    "def parse_line(line):\n",
    "    return pd.Series(line.split()).astype(\"int\")"
   ]
  },
  {
   "cell_type": "code",
   "execution_count": 32,
   "metadata": {},
   "outputs": [],
   "source": [
    "def compute_next(line):\n",
    "    current_series = parse_line(line)\n",
    "    new_series = [current_series.iloc[0]]\n",
    "    i = 1\n",
    "    while current_series.abs().sum() > 0:\n",
    "        current_series = current_series.diff()\n",
    "        new_series.append(current_series.iloc[i])\n",
    "        i+=1\n",
    "        #print(current_series)\n",
    "    new_series = list(reversed(new_series))[1:]\n",
    "    #print(new_series)\n",
    "    current_diff = 0\n",
    "    for val in new_series:\n",
    "        current_diff = val - current_diff\n",
    "        #print(current_diff)\n",
    "    return current_diff"
   ]
  },
  {
   "cell_type": "code",
   "execution_count": 33,
   "metadata": {},
   "outputs": [
    {
     "data": {
      "text/plain": [
       "5.0"
      ]
     },
     "execution_count": 33,
     "metadata": {},
     "output_type": "execute_result"
    }
   ],
   "source": [
    "line = \"10 13 16 21 30 45\"\n",
    "current_series = parse_line(line)\n",
    "new_series = [current_series.iloc[0]]\n",
    "i = 1\n",
    "while current_series.abs().sum() > 0:\n",
    "    current_series = current_series.diff()\n",
    "    new_series.append(current_series.iloc[i])\n",
    "    i+=1\n",
    "    #print(current_series)\n",
    "new_series = list(reversed(new_series))[1:]\n",
    "#print(new_series)\n",
    "current_diff = 0\n",
    "for val in new_series:\n",
    "    current_diff = val - current_diff\n",
    "    #print(current_diff)\n",
    "current_diff"
   ]
  },
  {
   "cell_type": "code",
   "execution_count": 34,
   "metadata": {},
   "outputs": [
    {
     "data": {
      "text/plain": [
       "8.0"
      ]
     },
     "execution_count": 34,
     "metadata": {},
     "output_type": "execute_result"
    }
   ],
   "source": [
    "compute_next(\"7 6 5 4 3 2 1 0 -1 -2 -3 -4 -5 -6 -7 -8 -9 -10 -11 -12 -13\")"
   ]
  },
  {
   "cell_type": "code",
   "execution_count": 35,
   "metadata": {},
   "outputs": [
    {
     "data": {
      "text/plain": [
       "[14.0,\n",
       " 6.0,\n",
       " 5.0,\n",
       " 8.0,\n",
       " -1.0,\n",
       " 8.0,\n",
       " 8.0,\n",
       " 3.0,\n",
       " 13.0,\n",
       " 15.0,\n",
       " 12.0,\n",
       " 0.0,\n",
       " -5.0,\n",
       " 6.0,\n",
       " 12.0,\n",
       " -4.0,\n",
       " -3.0,\n",
       " 2.0,\n",
       " 15.0,\n",
       " 13.0,\n",
       " 15.0,\n",
       " 3.0,\n",
       " 12.0,\n",
       " 0.0,\n",
       " 10.0,\n",
       " -3.0,\n",
       " 3.0,\n",
       " 1.0,\n",
       " 15.0,\n",
       " 5.0,\n",
       " 6.0,\n",
       " 14.0,\n",
       " 1.0,\n",
       " 6.0,\n",
       " 8.0,\n",
       " 8.0,\n",
       " 3.0,\n",
       " 7.0,\n",
       " -5.0,\n",
       " -4.0,\n",
       " 1.0,\n",
       " 0.0,\n",
       " 0.0,\n",
       " 14.0,\n",
       " -5.0,\n",
       " 14.0,\n",
       " 8.0,\n",
       " 2.0,\n",
       " 5.0,\n",
       " -3.0,\n",
       " -1.0,\n",
       " 9.0,\n",
       " 5.0,\n",
       " 0.0,\n",
       " 15.0,\n",
       " 4.0,\n",
       " 2.0,\n",
       " -4.0,\n",
       " 3.0,\n",
       " 2.0,\n",
       " 11.0,\n",
       " 6.0,\n",
       " 15.0,\n",
       " 7.0,\n",
       " 4.0,\n",
       " 15.0,\n",
       " 4.0,\n",
       " 1.0,\n",
       " 13.0,\n",
       " 8.0,\n",
       " 6.0,\n",
       " -5.0,\n",
       " 12.0,\n",
       " -1.0,\n",
       " 9.0,\n",
       " 5.0,\n",
       " 0.0,\n",
       " 10.0,\n",
       " 6.0,\n",
       " 15.0,\n",
       " 8.0,\n",
       " 15.0,\n",
       " -2.0,\n",
       " 10.0,\n",
       " 0.0,\n",
       " -3.0,\n",
       " 14.0,\n",
       " -4.0,\n",
       " 10.0,\n",
       " -4.0,\n",
       " 7.0,\n",
       " 11.0,\n",
       " 1.0,\n",
       " 11.0,\n",
       " 13.0,\n",
       " 7.0,\n",
       " -1.0,\n",
       " 9.0,\n",
       " 7.0,\n",
       " 1.0,\n",
       " 5.0,\n",
       " 7.0,\n",
       " -3.0,\n",
       " 9.0,\n",
       " 4.0,\n",
       " 11.0,\n",
       " -2.0,\n",
       " 2.0,\n",
       " -3.0,\n",
       " 2.0,\n",
       " 4.0,\n",
       " 10.0,\n",
       " -5.0,\n",
       " -4.0,\n",
       " -2.0,\n",
       " 8.0,\n",
       " 6.0,\n",
       " 9.0,\n",
       " 6.0,\n",
       " 11.0,\n",
       " 12.0,\n",
       " 15.0,\n",
       " 13.0,\n",
       " -4.0,\n",
       " 5.0,\n",
       " -4.0,\n",
       " 5.0,\n",
       " -1.0,\n",
       " 13.0,\n",
       " 13.0,\n",
       " 6.0,\n",
       " 0.0,\n",
       " 7.0,\n",
       " 3.0,\n",
       " 7.0,\n",
       " -3.0,\n",
       " 3.0,\n",
       " 3.0,\n",
       " 1.0,\n",
       " 5.0,\n",
       " 14.0,\n",
       " 3.0,\n",
       " -3.0,\n",
       " 15.0,\n",
       " 14.0,\n",
       " 9.0,\n",
       " 8.0,\n",
       " 7.0,\n",
       " -5.0,\n",
       " 15.0,\n",
       " -4.0,\n",
       " 13.0,\n",
       " 5.0,\n",
       " 12.0,\n",
       " 8.0,\n",
       " 12.0,\n",
       " 15.0,\n",
       " -2.0,\n",
       " -5.0,\n",
       " 6.0,\n",
       " 11.0,\n",
       " 14.0,\n",
       " 11.0,\n",
       " -4.0,\n",
       " 6.0,\n",
       " 2.0,\n",
       " 13.0,\n",
       " 10.0,\n",
       " 11.0,\n",
       " 13.0,\n",
       " 12.0,\n",
       " -2.0,\n",
       " 13.0,\n",
       " -1.0,\n",
       " 14.0,\n",
       " 0.0,\n",
       " 13.0,\n",
       " -4.0,\n",
       " 11.0,\n",
       " 14.0,\n",
       " 0.0,\n",
       " 11.0,\n",
       " 9.0,\n",
       " 12.0,\n",
       " 2.0,\n",
       " 6.0,\n",
       " 4.0,\n",
       " 0.0,\n",
       " 8.0,\n",
       " -1.0,\n",
       " 10.0,\n",
       " 3.0,\n",
       " 3.0,\n",
       " -2.0,\n",
       " 8.0,\n",
       " 2.0,\n",
       " 3.0,\n",
       " 1.0,\n",
       " 12.0,\n",
       " -5.0]"
      ]
     },
     "execution_count": 35,
     "metadata": {},
     "output_type": "execute_result"
    }
   ],
   "source": [
    "with open(\"day9.txt\") as f:\n",
    "    lines = f.readlines()\n",
    "results = []\n",
    "for line in lines:\n",
    "    results.append(compute_next(line))\n",
    "results"
   ]
  },
  {
   "cell_type": "code",
   "execution_count": 36,
   "metadata": {},
   "outputs": [
    {
     "data": {
      "text/plain": [
       "1108.0"
      ]
     },
     "execution_count": 36,
     "metadata": {},
     "output_type": "execute_result"
    }
   ],
   "source": [
    "sum(results)"
   ]
  },
  {
   "cell_type": "code",
   "execution_count": 37,
   "metadata": {},
   "outputs": [
    {
     "data": {
      "text/plain": [
       "1108.0"
      ]
     },
     "execution_count": 37,
     "metadata": {},
     "output_type": "execute_result"
    }
   ],
   "source": [
    "sum(results)"
   ]
  }
 ],
 "metadata": {
  "kernelspec": {
   "display_name": "Python 3",
   "language": "python",
   "name": "python3"
  },
  "language_info": {
   "codemirror_mode": {
    "name": "ipython",
    "version": 3
   },
   "file_extension": ".py",
   "mimetype": "text/x-python",
   "name": "python",
   "nbconvert_exporter": "python",
   "pygments_lexer": "ipython3",
   "version": "3.11.1"
  }
 },
 "nbformat": 4,
 "nbformat_minor": 2
}
