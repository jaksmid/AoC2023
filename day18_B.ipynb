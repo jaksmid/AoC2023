{
 "cells": [
  {
   "cell_type": "code",
   "execution_count": 1,
   "metadata": {},
   "outputs": [],
   "source": [
    "import numpy as np"
   ]
  },
  {
   "cell_type": "code",
   "execution_count": 2,
   "metadata": {},
   "outputs": [],
   "source": [
    "with open(\"day18.txt\") as f:\n",
    "    lines = f.readlines()\n",
    "instructions = []\n",
    "for i, line in enumerate(lines):\n",
    "    if len(line) > 3:\n",
    "        if i != len(lines) -1:\n",
    "            line = line[:-1]\n",
    "        line = line.split()[2][2:-1]\n",
    "        distance = int(line[:-1], 16)\n",
    "        direction = line[-1]\n",
    "        # 0 means R, 1 means D, 2 means L, and 3 means U\n",
    "        if direction == '0':\n",
    "            direction = 'R'\n",
    "        if direction == '1':\n",
    "            direction = 'D'\n",
    "        if direction == '2':\n",
    "            direction = 'L'\n",
    "        if direction == '3':\n",
    "            direction = 'U'\n",
    "        instructions.append((direction, distance))\n",
    "#instructions"
   ]
  },
  {
   "cell_type": "code",
   "execution_count": 3,
   "metadata": {},
   "outputs": [
    {
     "data": {
      "text/plain": [
       "[('U', 39487), ('R', 591424), ('U', 7574), ('R', 498190)]"
      ]
     },
     "execution_count": 3,
     "metadata": {},
     "output_type": "execute_result"
    }
   ],
   "source": [
    "[instructions[-1]] + instructions[:3]"
   ]
  },
  {
   "cell_type": "code",
   "execution_count": 4,
   "metadata": {},
   "outputs": [],
   "source": [
    "# figure out the starting corners"
   ]
  },
  {
   "cell_type": "code",
   "execution_count": 5,
   "metadata": {},
   "outputs": [],
   "source": [
    "def parse_instructions(instructions, starting_point):\n",
    "    positions = [starting_point]\n",
    "    right_corner = False\n",
    "    bottom_corner = False\n",
    "    for i, instruction in enumerate(instructions[:-1]):\n",
    "        y, x = positions[-1]\n",
    "        direction, distance, = instruction\n",
    "        future_direction, _ = instructions[i+1]\n",
    "        if direction == \"U\": \n",
    "                adjusted_y = y - distance\n",
    "                new_bottom = None\n",
    "                if future_direction == 'L':\n",
    "                        new_bottom = True\n",
    "                if future_direction == 'R':\n",
    "                        new_bottom = False\n",
    "                if bottom_corner and not new_bottom:\n",
    "                        adjusted_y = adjusted_y - 1\n",
    "                elif  not bottom_corner and new_bottom:\n",
    "                        adjusted_y = adjusted_y + 1\n",
    "                positions.append((adjusted_y, x)) \n",
    "                bottom_corner = new_bottom                          \n",
    "        elif direction == \"D\":\n",
    "                adjusted_y = y + distance\n",
    "                new_bottom = None\n",
    "                if future_direction == 'L':\n",
    "                        new_bottom = True\n",
    "                if future_direction == 'R':\n",
    "                        new_bottom = False\n",
    "                if bottom_corner and not new_bottom:\n",
    "                        adjusted_y = adjusted_y - 1\n",
    "                elif  not bottom_corner and new_bottom:\n",
    "                        adjusted_y = adjusted_y + 1\n",
    "                positions.append((adjusted_y, x)) \n",
    "                bottom_corner = new_bottom           \n",
    "        if direction == \"L\":  \n",
    "                adjusted_x = x - distance\n",
    "                new_right = None\n",
    "                if future_direction == 'D':\n",
    "                        new_right = True\n",
    "                if future_direction == 'U':\n",
    "                        new_right = False\n",
    "                if right_corner and not new_right:\n",
    "                        adjusted_x = adjusted_x - 1\n",
    "                elif  not right_corner and new_right:\n",
    "                        adjusted_x = adjusted_x + 1\n",
    "                positions.append((y, adjusted_x)) \n",
    "                right_corner = new_right             \n",
    "        if direction == \"R\":\n",
    "                adjusted_x = x + distance\n",
    "                new_right = None\n",
    "                if future_direction == 'D':\n",
    "                        new_right = True\n",
    "                if future_direction == 'U':\n",
    "                        new_right = False\n",
    "                if not right_corner and new_right:\n",
    "                        adjusted_x += 1\n",
    "                elif  right_corner and not new_right:\n",
    "                        adjusted_x = adjusted_x - 1\n",
    "                positions.append((y, adjusted_x)) \n",
    "                right_corner = new_right\n",
    "    positions.append(starting_point)\n",
    "    return positions"
   ]
  },
  {
   "cell_type": "code",
   "execution_count": 6,
   "metadata": {},
   "outputs": [],
   "source": [
    "def calculate_area(adjusted_positions):\n",
    "    adjusted_extended = adjusted_positions + [adjusted_positions[0]]\n",
    "    total = 0\n",
    "    for i in range(1, len(adjusted_positions)):\n",
    "        x_i = adjusted_positions[i][1]\n",
    "        x_i_minus_one = adjusted_positions[i-1][1]\n",
    "        x_i_plus_one = adjusted_extended[i+1][1]\n",
    "        y_i_plus_one = adjusted_extended[i+1][0]\n",
    "        y_i = adjusted_extended[i][0]\n",
    "        y_i_minus_one = adjusted_positions[i-1][0]\n",
    "        total += ((x_i* y_i_minus_one) - (x_i_minus_one * y_i)) \n",
    "    return abs(total/2)"
   ]
  },
  {
   "cell_type": "code",
   "execution_count": 7,
   "metadata": {},
   "outputs": [],
   "source": [
    "test_inst = parse_instructions([('R', 1), ('D', 1), ('L', 1), ('U', 1)], (0,0))"
   ]
  },
  {
   "cell_type": "code",
   "execution_count": 8,
   "metadata": {},
   "outputs": [
    {
     "data": {
      "text/plain": [
       "[(0, 0), (0, 2), (2, 2), (2, 0), (0, 0)]"
      ]
     },
     "execution_count": 8,
     "metadata": {},
     "output_type": "execute_result"
    }
   ],
   "source": [
    "parse_instructions([('R', 1), ('D', 1), ('L', 1), ('U', 1)], (0,0))"
   ]
  },
  {
   "cell_type": "code",
   "execution_count": 9,
   "metadata": {},
   "outputs": [
    {
     "data": {
      "text/plain": [
       "[(0, 0), (0, 2), (2, 2), (2, 0), (0, 0)]"
      ]
     },
     "execution_count": 9,
     "metadata": {},
     "output_type": "execute_result"
    }
   ],
   "source": [
    "test_inst"
   ]
  },
  {
   "cell_type": "code",
   "execution_count": 10,
   "metadata": {},
   "outputs": [
    {
     "data": {
      "text/plain": [
       "4.0"
      ]
     },
     "execution_count": 10,
     "metadata": {},
     "output_type": "execute_result"
    }
   ],
   "source": [
    "calculate_area(test_inst)"
   ]
  },
  {
   "cell_type": "code",
   "execution_count": 11,
   "metadata": {},
   "outputs": [],
   "source": [
    "positions = parse_instructions(instructions, (0, 0))"
   ]
  },
  {
   "cell_type": "code",
   "execution_count": 12,
   "metadata": {},
   "outputs": [
    {
     "data": {
      "text/plain": [
       "(0, 0)"
      ]
     },
     "execution_count": 12,
     "metadata": {},
     "output_type": "execute_result"
    }
   ],
   "source": [
    "positions[-1]"
   ]
  },
  {
   "cell_type": "code",
   "execution_count": 13,
   "metadata": {},
   "outputs": [
    {
     "data": {
      "text/plain": [
       "177243763226648.0"
      ]
     },
     "execution_count": 13,
     "metadata": {},
     "output_type": "execute_result"
    }
   ],
   "source": [
    "calculate_area(positions)"
   ]
  },
  {
   "cell_type": "code",
   "execution_count": 14,
   "metadata": {},
   "outputs": [
    {
     "data": {
      "text/plain": [
       "62.0"
      ]
     },
     "execution_count": 14,
     "metadata": {},
     "output_type": "execute_result"
    }
   ],
   "source": [
    "correct_example_positions = [(0, 0), (0, 7), (6, 7), (6, 5), (7, 5), (7, 7), (10, 7), (10, 1), (8, 1), (8, 0), (5, 0), (5, 2), (3, 2), (3, 0), (0, 0)]\n",
    "calculate_area(correct_example_positions)"
   ]
  }
 ],
 "metadata": {
  "kernelspec": {
   "display_name": "Python 3",
   "language": "python",
   "name": "python3"
  },
  "language_info": {
   "codemirror_mode": {
    "name": "ipython",
    "version": 3
   },
   "file_extension": ".py",
   "mimetype": "text/x-python",
   "name": "python",
   "nbconvert_exporter": "python",
   "pygments_lexer": "ipython3",
   "version": "3.11.1"
  }
 },
 "nbformat": 4,
 "nbformat_minor": 2
}
