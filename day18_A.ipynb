{
 "cells": [
  {
   "cell_type": "code",
   "execution_count": 90,
   "metadata": {},
   "outputs": [],
   "source": [
    "import numpy as np"
   ]
  },
  {
   "cell_type": "code",
   "execution_count": 91,
   "metadata": {},
   "outputs": [],
   "source": [
    "with open(\"day18.txt\") as f:\n",
    "    lines = f.readlines()\n",
    "instructions = []\n",
    "for i, line in enumerate(lines):\n",
    "    if len(line) > 3:\n",
    "        if i != len(lines) -1:\n",
    "            line = line[:-1]\n",
    "        instructions.append(line)\n",
    "#instructions"
   ]
  },
  {
   "cell_type": "code",
   "execution_count": 92,
   "metadata": {},
   "outputs": [],
   "source": [
    "positions = [(0,0)]\n",
    "for instruction in instructions:\n",
    "    y, x = positions[-1]\n",
    "    direction, distance, color = instruction.split()\n",
    "    distance = int(distance)\n",
    "    if direction == \"U\":\n",
    "            positions.append((y-distance,x)) \n",
    "    elif direction == \"D\":\n",
    "            positions.append((y+distance,x)) \n",
    "    if direction == \"L\":\n",
    "         positions.append((y,x-distance)) \n",
    "    if direction == \"R\":\n",
    "            positions.append((y,x+distance)) \n",
    "#positions"
   ]
  },
  {
   "cell_type": "code",
   "execution_count": 93,
   "metadata": {},
   "outputs": [],
   "source": [
    "def parse_instruction(instruction):\n",
    "    direction, distance, _ = instruction.split()\n",
    "    distance = int(distance)\n",
    "    return direction, distance"
   ]
  },
  {
   "cell_type": "code",
   "execution_count": 94,
   "metadata": {},
   "outputs": [],
   "source": [
    "instructions = [parse_instruction(instruction) for instruction in instructions]"
   ]
  },
  {
   "cell_type": "code",
   "execution_count": 106,
   "metadata": {},
   "outputs": [
    {
     "data": {
      "text/plain": [
       "[('U', 4), ('L', 4), ('D', 13), ('L', 3)]"
      ]
     },
     "execution_count": 106,
     "metadata": {},
     "output_type": "execute_result"
    }
   ],
   "source": [
    "[instructions[-1]] + instructions[:3]"
   ]
  },
  {
   "cell_type": "code",
   "execution_count": null,
   "metadata": {},
   "outputs": [],
   "source": [
    "# figure out the starting corners"
   ]
  },
  {
   "cell_type": "code",
   "execution_count": 96,
   "metadata": {},
   "outputs": [],
   "source": [
    "def parse_instructions(instructions, starting_point):\n",
    "    positions = [starting_point]\n",
    "    right_corner = False\n",
    "    bottom_corner = True\n",
    "    for i, instruction in enumerate(instructions[:-1]):\n",
    "        y, x = positions[-1]\n",
    "        direction, distance, = instruction\n",
    "        future_direction, _ = instructions[i+1]\n",
    "        if direction == \"U\": \n",
    "                adjusted_y = y - distance\n",
    "                new_bottom = None\n",
    "                if future_direction == 'L':\n",
    "                        new_bottom = True\n",
    "                if future_direction == 'R':\n",
    "                        new_bottom = False\n",
    "                if bottom_corner and not new_bottom:\n",
    "                        adjusted_y = adjusted_y - 1\n",
    "                elif  not bottom_corner and new_bottom:\n",
    "                        adjusted_y = adjusted_y + 1\n",
    "                positions.append((adjusted_y, x)) \n",
    "                bottom_corner = new_bottom                          \n",
    "        elif direction == \"D\":\n",
    "                adjusted_y = y + distance\n",
    "                new_bottom = None\n",
    "                if future_direction == 'L':\n",
    "                        new_bottom = True\n",
    "                if future_direction == 'R':\n",
    "                        new_bottom = False\n",
    "                if bottom_corner and not new_bottom:\n",
    "                        adjusted_y = adjusted_y - 1\n",
    "                elif  not bottom_corner and new_bottom:\n",
    "                        adjusted_y = adjusted_y + 1\n",
    "                positions.append((adjusted_y, x)) \n",
    "                bottom_corner = new_bottom           \n",
    "        if direction == \"L\":  \n",
    "                adjusted_x = x - distance\n",
    "                new_right = None\n",
    "                if future_direction == 'D':\n",
    "                        new_right = True\n",
    "                if future_direction == 'U':\n",
    "                        new_right = False\n",
    "                if right_corner and not new_right:\n",
    "                        adjusted_x = adjusted_x - 1\n",
    "                elif  not right_corner and new_right:\n",
    "                        adjusted_x = adjusted_x + 1\n",
    "                positions.append((y, adjusted_x)) \n",
    "                right_corner = new_right             \n",
    "        if direction == \"R\":\n",
    "                adjusted_x = x + distance\n",
    "                new_right = None\n",
    "                if future_direction == 'D':\n",
    "                        new_right = True\n",
    "                if future_direction == 'U':\n",
    "                        new_right = False\n",
    "                if not right_corner and new_right:\n",
    "                        adjusted_x += 1\n",
    "                elif  right_corner and not new_right:\n",
    "                        adjusted_x = adjusted_x - 1\n",
    "                positions.append((y, adjusted_x)) \n",
    "                right_corner = new_right\n",
    "    positions.append(starting_point)\n",
    "    return positions"
   ]
  },
  {
   "cell_type": "code",
   "execution_count": 97,
   "metadata": {},
   "outputs": [],
   "source": [
    "def calculate_area(adjusted_positions):\n",
    "    adjusted_extended = adjusted_positions + [adjusted_positions[0]]\n",
    "    total = 0\n",
    "    for i in range(1, len(adjusted_positions)):\n",
    "        x_i = adjusted_positions[i][1]\n",
    "        x_i_minus_one = adjusted_positions[i-1][1]\n",
    "        x_i_plus_one = adjusted_extended[i+1][1]\n",
    "        y_i_plus_one = adjusted_extended[i+1][0]\n",
    "        y_i = adjusted_extended[i][0]\n",
    "        y_i_minus_one = adjusted_positions[i-1][0]\n",
    "        total += ((x_i* y_i_minus_one) - (x_i_minus_one * y_i)) \n",
    "    return abs(total/2)"
   ]
  },
  {
   "cell_type": "code",
   "execution_count": 98,
   "metadata": {},
   "outputs": [],
   "source": [
    "test_inst = parse_instructions([('R', 1), ('D', 1), ('L', 1), ('U', 1)], (0,0))"
   ]
  },
  {
   "cell_type": "code",
   "execution_count": 99,
   "metadata": {},
   "outputs": [
    {
     "data": {
      "text/plain": [
       "[(0, 0), (0, 2), (1, 2), (1, 0), (0, 0)]"
      ]
     },
     "execution_count": 99,
     "metadata": {},
     "output_type": "execute_result"
    }
   ],
   "source": [
    "parse_instructions([('R', 1), ('D', 1), ('L', 1), ('U', 1)], (0,0))"
   ]
  },
  {
   "cell_type": "code",
   "execution_count": 100,
   "metadata": {},
   "outputs": [
    {
     "data": {
      "text/plain": [
       "[(0, 0), (0, 2), (1, 2), (1, 0), (0, 0)]"
      ]
     },
     "execution_count": 100,
     "metadata": {},
     "output_type": "execute_result"
    }
   ],
   "source": [
    "test_inst"
   ]
  },
  {
   "cell_type": "code",
   "execution_count": 101,
   "metadata": {},
   "outputs": [
    {
     "data": {
      "text/plain": [
       "2.0"
      ]
     },
     "execution_count": 101,
     "metadata": {},
     "output_type": "execute_result"
    }
   ],
   "source": [
    "calculate_area(test_inst)"
   ]
  },
  {
   "cell_type": "code",
   "execution_count": 102,
   "metadata": {},
   "outputs": [],
   "source": [
    "positions = parse_instructions(instructions, (0, 0))"
   ]
  },
  {
   "cell_type": "code",
   "execution_count": 103,
   "metadata": {},
   "outputs": [
    {
     "data": {
      "text/plain": [
       "(0, 0)"
      ]
     },
     "execution_count": 103,
     "metadata": {},
     "output_type": "execute_result"
    }
   ],
   "source": [
    "positions[-1]"
   ]
  },
  {
   "cell_type": "code",
   "execution_count": 104,
   "metadata": {},
   "outputs": [
    {
     "data": {
      "text/plain": [
       "66993.0"
      ]
     },
     "execution_count": 104,
     "metadata": {},
     "output_type": "execute_result"
    }
   ],
   "source": [
    "calculate_area(positions)"
   ]
  },
  {
   "cell_type": "code",
   "execution_count": 105,
   "metadata": {},
   "outputs": [
    {
     "data": {
      "text/plain": [
       "62.0"
      ]
     },
     "execution_count": 105,
     "metadata": {},
     "output_type": "execute_result"
    }
   ],
   "source": [
    "correct_example_positions = [(0, 0), (0, 7), (6, 7), (6, 5), (7, 5), (7, 7), (10, 7), (10, 1), (8, 1), (8, 0), (5, 0), (5, 2), (3, 2), (3, 0), (0, 0)]\n",
    "calculate_area(correct_example_positions)"
   ]
  }
 ],
 "metadata": {
  "kernelspec": {
   "display_name": "Python 3",
   "language": "python",
   "name": "python3"
  },
  "language_info": {
   "codemirror_mode": {
    "name": "ipython",
    "version": 3
   },
   "file_extension": ".py",
   "mimetype": "text/x-python",
   "name": "python",
   "nbconvert_exporter": "python",
   "pygments_lexer": "ipython3",
   "version": "3.11.1"
  }
 },
 "nbformat": 4,
 "nbformat_minor": 2
}
