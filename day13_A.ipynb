{
 "cells": [
  {
   "cell_type": "code",
   "execution_count": 58,
   "metadata": {},
   "outputs": [],
   "source": [
    "import numpy as np"
   ]
  },
  {
   "cell_type": "code",
   "execution_count": 59,
   "metadata": {},
   "outputs": [
    {
     "data": {
      "text/plain": [
       "['#.###.##..#....',\n",
       " '.#.###.....####',\n",
       " '...##...###.##.',\n",
       " '...######..#..#',\n",
       " '##.#..#.##..##.',\n",
       " '.#.##..#....##.',\n",
       " '##..##.#...####',\n",
       " '.####..##.#####',\n",
       " '#.####.#....##.',\n",
       " '..#.###.#..#..#',\n",
       " '##...####...##.',\n",
       " '##...####...##.',\n",
       " '..#.###.#..#..#',\n",
       " '#.###..#....##.',\n",
       " '.####..##.#####']"
      ]
     },
     "execution_count": 59,
     "metadata": {},
     "output_type": "execute_result"
    }
   ],
   "source": [
    "patterns = []\n",
    "with open(\"day13.txt\") as f:\n",
    "    lines = f.readlines()\n",
    "current_pattern = []\n",
    "for line in lines:\n",
    "    if len(line) > 3:\n",
    "        line = line[:-1]\n",
    "        current_pattern.append(line)\n",
    "    else:\n",
    "        patterns.append(current_pattern)\n",
    "        current_pattern = []\n",
    "patterns.append(current_pattern)\n",
    "patterns[0]\n",
    "#beware - new line must be at input"
   ]
  },
  {
   "cell_type": "code",
   "execution_count": 60,
   "metadata": {},
   "outputs": [
    {
     "data": {
      "text/plain": [
       "(15, 15)"
      ]
     },
     "execution_count": 60,
     "metadata": {},
     "output_type": "execute_result"
    }
   ],
   "source": [
    "pattern = patterns[0]\n",
    "x_dim = len(pattern[0])\n",
    "y_dim = len(pattern)\n",
    "x_dim, y_dim"
   ]
  },
  {
   "cell_type": "code",
   "execution_count": 61,
   "metadata": {},
   "outputs": [],
   "source": [
    "symbols = np.zeros((y_dim, x_dim), dtype=\"str\")"
   ]
  },
  {
   "cell_type": "code",
   "execution_count": 62,
   "metadata": {},
   "outputs": [],
   "source": [
    "numbers = []\n",
    "for y, row in enumerate(pattern):\n",
    "    for x, val in enumerate(row):\n",
    "        symbols[y, x] = val\n"
   ]
  },
  {
   "cell_type": "code",
   "execution_count": 63,
   "metadata": {},
   "outputs": [],
   "source": [
    "def pretty_print(matrix):\n",
    "    print(str(matrix).replace(' ','').replace(\"'\",\"\").replace('[','').replace(']',''))"
   ]
  },
  {
   "cell_type": "code",
   "execution_count": 64,
   "metadata": {},
   "outputs": [
    {
     "name": "stdout",
     "output_type": "stream",
     "text": [
      "#.###.##..#....\n",
      ".#.###.....####\n",
      "...##...###.##.\n",
      "...######..#..#\n",
      "##.#..#.##..##.\n",
      ".#.##..#....##.\n",
      "##..##.#...####\n",
      ".####..##.#####\n",
      "#.####.#....##.\n",
      "..#.###.#..#..#\n",
      "##...####...##.\n",
      "##...####...##.\n",
      "..#.###.#..#..#\n",
      "#.###..#....##.\n",
      ".####..##.#####\n"
     ]
    }
   ],
   "source": [
    "pretty_print(symbols)"
   ]
  },
  {
   "cell_type": "code",
   "execution_count": 65,
   "metadata": {},
   "outputs": [
    {
     "name": "stdout",
     "output_type": "stream",
     "text": [
      "#...#.#.#.##.#.\n",
      ".#..####..##..#\n",
      "#......###..###\n",
      "######.##....##\n",
      "####.#####..###\n",
      ".#.#..#.#####..\n",
      "#..##....####..\n",
      "#..#.####.##.##\n",
      "..###..#.####.#\n",
      "..#.#..........\n",
      "#.#....#......#\n",
      ".#.#..##.#..#.#\n",
      ".##.#####.##.##\n",
      ".##.#####.##.##\n",
      ".#.#..##.#..#.#\n"
     ]
    }
   ],
   "source": [
    "pretty_print(symbols.T)"
   ]
  },
  {
   "cell_type": "code",
   "execution_count": 66,
   "metadata": {},
   "outputs": [
    {
     "name": "stdout",
     "output_type": "stream",
     "text": [
      "\n",
      "#...#.#.#.##.#.\n",
      "---------------\n",
      ".#..####..##..#\n",
      "\n",
      "#...#.#.#.##.#.\n",
      ".#..####..##..#\n",
      "---------------\n",
      "######.##....##\n",
      "#......###..###\n",
      "\n",
      "#...#.#.#.##.#.\n",
      ".#..####..##..#\n",
      "#......###..###\n",
      "---------------\n",
      ".#.#..#.#####..\n",
      "####.#####..###\n",
      "######.##....##\n",
      "\n",
      "#...#.#.#.##.#.\n",
      ".#..####..##..#\n",
      "#......###..###\n",
      "######.##....##\n",
      "---------------\n",
      "#..#.####.##.##\n",
      "#..##....####..\n",
      ".#.#..#.#####..\n",
      "####.#####..###\n",
      "\n",
      "#...#.#.#.##.#.\n",
      ".#..####..##..#\n",
      "#......###..###\n",
      "######.##....##\n",
      "####.#####..###\n",
      "---------------\n",
      "..#.#..........\n",
      "..###..#.####.#\n",
      "#..#.####.##.##\n",
      "#..##....####..\n",
      ".#.#..#.#####..\n",
      "\n",
      "#...#.#.#.##.#.\n",
      ".#..####..##..#\n",
      "#......###..###\n",
      "######.##....##\n",
      "####.#####..###\n",
      ".#.#..#.#####..\n",
      "---------------\n",
      ".#.#..##.#..#.#\n",
      "#.#....#......#\n",
      "..#.#..........\n",
      "..###..#.####.#\n",
      "#..#.####.##.##\n",
      "#..##....####..\n",
      "\n",
      "#...#.#.#.##.#.\n",
      ".#..####..##..#\n",
      "#......###..###\n",
      "######.##....##\n",
      "####.#####..###\n",
      ".#.#..#.#####..\n",
      "#..##....####..\n",
      "---------------\n",
      ".##.#####.##.##\n",
      ".##.#####.##.##\n",
      ".#.#..##.#..#.#\n",
      "#.#....#......#\n",
      "..#.#..........\n",
      "..###..#.####.#\n",
      "#..#.####.##.##\n",
      "\n",
      ".#..####..##..#\n",
      "#......###..###\n",
      "######.##....##\n",
      "####.#####..###\n",
      ".#.#..#.#####..\n",
      "#..##....####..\n",
      "#..#.####.##.##\n",
      "---------------\n",
      ".#.#..##.#..#.#\n",
      ".##.#####.##.##\n",
      ".##.#####.##.##\n",
      ".#.#..##.#..#.#\n",
      "#.#....#......#\n",
      "..#.#..........\n",
      "..###..#.####.#\n",
      "\n",
      "######.##....##\n",
      "####.#####..###\n",
      ".#.#..#.#####..\n",
      "#..##....####..\n",
      "#..#.####.##.##\n",
      "..###..#.####.#\n",
      "---------------\n",
      ".#.#..##.#..#.#\n",
      ".##.#####.##.##\n",
      ".##.#####.##.##\n",
      ".#.#..##.#..#.#\n",
      "#.#....#......#\n",
      "..#.#..........\n",
      "\n",
      ".#.#..#.#####..\n",
      "#..##....####..\n",
      "#..#.####.##.##\n",
      "..###..#.####.#\n",
      "..#.#..........\n",
      "---------------\n",
      ".#.#..##.#..#.#\n",
      ".##.#####.##.##\n",
      ".##.#####.##.##\n",
      ".#.#..##.#..#.#\n",
      "#.#....#......#\n",
      "\n",
      "#..#.####.##.##\n",
      "..###..#.####.#\n",
      "..#.#..........\n",
      "#.#....#......#\n",
      "---------------\n",
      ".#.#..##.#..#.#\n",
      ".##.#####.##.##\n",
      ".##.#####.##.##\n",
      ".#.#..##.#..#.#\n",
      "\n",
      "..#.#..........\n",
      "#.#....#......#\n",
      ".#.#..##.#..#.#\n",
      "---------------\n",
      ".#.#..##.#..#.#\n",
      ".##.#####.##.##\n",
      ".##.#####.##.##\n",
      "\n",
      ".#.#..##.#..#.#\n",
      ".##.#####.##.##\n",
      "---------------\n",
      ".#.#..##.#..#.#\n",
      ".##.#####.##.##\n",
      "\n",
      ".##.#####.##.##\n",
      "---------------\n",
      ".#.#..##.#..#.#\n"
     ]
    },
    {
     "data": {
      "text/plain": [
       "[13]"
      ]
     },
     "execution_count": 66,
     "metadata": {},
     "output_type": "execute_result"
    }
   ],
   "source": [
    "symbols = symbols.T\n",
    "y_dim = x_dim\n",
    "results = []\n",
    "for split in range(1,y_dim):\n",
    "    size_left = split\n",
    "    size_right = y_dim - size_left\n",
    "    if size_right > size_left:\n",
    "        left = symbols[:split]\n",
    "        right = symbols[split:split+len(left)]\n",
    "    else:\n",
    "        right = symbols[split:]\n",
    "        left = symbols[split-len(right):split]\n",
    "    print('')\n",
    "    pretty_print(left)\n",
    "    print('---------------')\n",
    "    right = np.flip(right, axis=0)\n",
    "    pretty_print(right)\n",
    "    if np.array_equal(left, right):\n",
    "        results.append(split)\n",
    "results"
   ]
  },
  {
   "cell_type": "code",
   "execution_count": 67,
   "metadata": {},
   "outputs": [],
   "source": [
    "def find_pattern(symbols, dim):\n",
    "    results = []\n",
    "    for split in range(1,dim):\n",
    "        size_left = split\n",
    "        size_right = dim - size_left\n",
    "        if size_right > size_left:\n",
    "            left = symbols[:split]\n",
    "            right = symbols[split:split+len(left)]\n",
    "        else:\n",
    "            right = symbols[split:]\n",
    "            left = symbols[split-len(right):split]\n",
    "        right = np.flip(right, axis=0)\n",
    "        if np.array_equal(left, right):\n",
    "            results.append(split)\n",
    "    if len(results) > 1:\n",
    "        raise \n",
    "    if len(results):\n",
    "        return results[0]"
   ]
  },
  {
   "cell_type": "code",
   "execution_count": 68,
   "metadata": {},
   "outputs": [],
   "source": [
    "def process_pattern(pattern):\n",
    "    x_dim = len(pattern[0])\n",
    "    y_dim = len(pattern)\n",
    "    symbols = np.zeros((y_dim, x_dim), dtype=\"str\")\n",
    "    for y, row in enumerate(pattern):\n",
    "        for x, val in enumerate(row):\n",
    "            symbols[y, x] = val\n",
    "    horizontal = find_pattern(symbols, y_dim)\n",
    "    vertical = find_pattern(symbols.T, x_dim)\n",
    "    return vertical, horizontal\n"
   ]
  },
  {
   "cell_type": "code",
   "execution_count": 69,
   "metadata": {},
   "outputs": [
    {
     "name": "stdout",
     "output_type": "stream",
     "text": [
      "34918\n"
     ]
    },
    {
     "data": {
      "text/plain": [
       "[(13, None),\n",
       " (1, None),\n",
       " (None, 4),\n",
       " (11, None),\n",
       " (10, None),\n",
       " (12, None),\n",
       " (3, None),\n",
       " (9, None),\n",
       " (1, None),\n",
       " (None, 1),\n",
       " (1, None),\n",
       " (1, None),\n",
       " (None, 3),\n",
       " (None, 6),\n",
       " (None, 3),\n",
       " (9, None),\n",
       " (None, 9),\n",
       " (1, None),\n",
       " (None, 3),\n",
       " (2, None),\n",
       " (None, 6),\n",
       " (None, 15),\n",
       " (10, None),\n",
       " (1, None),\n",
       " (1, None),\n",
       " (1, None),\n",
       " (None, 10),\n",
       " (None, 16),\n",
       " (None, 3),\n",
       " (None, 2),\n",
       " (None, 6),\n",
       " (10, None),\n",
       " (13, None),\n",
       " (5, None),\n",
       " (None, 6),\n",
       " (10, None),\n",
       " (10, None),\n",
       " (None, 9),\n",
       " (4, None),\n",
       " (None, 1),\n",
       " (1, None),\n",
       " (4, None),\n",
       " (None, 2),\n",
       " (None, 5),\n",
       " (12, None),\n",
       " (7, None),\n",
       " (16, None),\n",
       " (None, 13),\n",
       " (10, None),\n",
       " (12, None),\n",
       " (None, 4),\n",
       " (None, 14),\n",
       " (None, 4),\n",
       " (None, 15),\n",
       " (3, None),\n",
       " (None, 9),\n",
       " (6, None),\n",
       " (3, None),\n",
       " (None, 5),\n",
       " (3, None),\n",
       " (None, 13),\n",
       " (None, 4),\n",
       " (None, 5),\n",
       " (None, 1),\n",
       " (None, 7),\n",
       " (None, 1),\n",
       " (None, 14),\n",
       " (10, None),\n",
       " (14, None),\n",
       " (2, None),\n",
       " (1, None),\n",
       " (None, 7),\n",
       " (None, 14),\n",
       " (None, 15),\n",
       " (None, 9),\n",
       " (1, None),\n",
       " (3, None),\n",
       " (None, 1),\n",
       " (3, None),\n",
       " (None, 3),\n",
       " (None, 14),\n",
       " (None, 1),\n",
       " (None, 2),\n",
       " (None, 3),\n",
       " (None, 8),\n",
       " (None, 12),\n",
       " (8, None),\n",
       " (None, 7),\n",
       " (1, None),\n",
       " (3, None),\n",
       " (16, None),\n",
       " (14, None),\n",
       " (None, 12),\n",
       " (1, None),\n",
       " (3, None),\n",
       " (None, 3),\n",
       " (None, 16),\n",
       " (15, None),\n",
       " (1, None),\n",
       " (6, None)]"
      ]
     },
     "execution_count": 69,
     "metadata": {},
     "output_type": "execute_result"
    }
   ],
   "source": [
    "results = []\n",
    "total = 0\n",
    "for i, pattern in enumerate(patterns):\n",
    "    ver, hor = process_pattern(pattern)\n",
    "    results.append((ver, hor))\n",
    "    if ver is not None:\n",
    "         total += ver\n",
    "    elif hor is not None:\n",
    "        total += 100*hor\n",
    "    #print(i)\n",
    "print(total)\n",
    "results"
   ]
  }
 ],
 "metadata": {
  "kernelspec": {
   "display_name": "Python 3",
   "language": "python",
   "name": "python3"
  },
  "language_info": {
   "codemirror_mode": {
    "name": "ipython",
    "version": 3
   },
   "file_extension": ".py",
   "mimetype": "text/x-python",
   "name": "python",
   "nbconvert_exporter": "python",
   "pygments_lexer": "ipython3",
   "version": "3.11.1"
  }
 },
 "nbformat": 4,
 "nbformat_minor": 2
}
