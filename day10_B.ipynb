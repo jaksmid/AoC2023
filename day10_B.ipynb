{
 "cells": [
  {
   "cell_type": "code",
   "execution_count": 1,
   "metadata": {},
   "outputs": [],
   "source": [
    "import pandas as pd\n",
    "import re\n",
    "import numpy as np"
   ]
  },
  {
   "cell_type": "code",
   "execution_count": 2,
   "metadata": {},
   "outputs": [
    {
     "data": {
      "text/html": [
       "<div>\n",
       "<style scoped>\n",
       "    .dataframe tbody tr th:only-of-type {\n",
       "        vertical-align: middle;\n",
       "    }\n",
       "\n",
       "    .dataframe tbody tr th {\n",
       "        vertical-align: top;\n",
       "    }\n",
       "\n",
       "    .dataframe thead th {\n",
       "        text-align: right;\n",
       "    }\n",
       "</style>\n",
       "<table border=\"1\" class=\"dataframe\">\n",
       "  <thead>\n",
       "    <tr style=\"text-align: right;\">\n",
       "      <th></th>\n",
       "      <th>coding</th>\n",
       "    </tr>\n",
       "  </thead>\n",
       "  <tbody>\n",
       "    <tr>\n",
       "      <th>0</th>\n",
       "      <td>F-L----F7-7.F-7JJ.F--L-.F|F77.L|7.FLF-7.JJ--7F...</td>\n",
       "    </tr>\n",
       "    <tr>\n",
       "      <th>1</th>\n",
       "      <td>J|F7.LL|.F7.FL|J-77--JJ7L|-|-F-7L7-|LJ|F|JL|L-...</td>\n",
       "    </tr>\n",
       "    <tr>\n",
       "      <th>2</th>\n",
       "      <td>FF7J.7L|-7|FF7|L7|L|.LF7-JFLJJ.J7JJFJ-7.L-LLJJ...</td>\n",
       "    </tr>\n",
       "    <tr>\n",
       "      <th>3</th>\n",
       "      <td>FJ.LF-7-FJLJ-|7-7J777..|-FJ7.FJ.|.F|LFL-L7L|.....</td>\n",
       "    </tr>\n",
       "    <tr>\n",
       "      <th>4</th>\n",
       "      <td>|FF7LFL7LJJL|.|.||L77--|7F---L.F|77JFL7.F|7FL7...</td>\n",
       "    </tr>\n",
       "    <tr>\n",
       "      <th>...</th>\n",
       "      <td>...</td>\n",
       "    </tr>\n",
       "    <tr>\n",
       "      <th>135</th>\n",
       "      <td>|-|||JF-7-7||LJ7J-|7|..F7LFJ7.F7F|.F7.---7||J....</td>\n",
       "    </tr>\n",
       "    <tr>\n",
       "      <th>136</th>\n",
       "      <td>|.LFJ-|JLF7-7-||L|||J.FFJ7.|F-7J|7.LL-7|FJF-7F...</td>\n",
       "    </tr>\n",
       "    <tr>\n",
       "      <th>137</th>\n",
       "      <td>F-|.F7|.FJ7FL-|-7F||L-J|F7F-L7J-7--F7FFLJLFFL7...</td>\n",
       "    </tr>\n",
       "    <tr>\n",
       "      <th>138</th>\n",
       "      <td>.FJF|JFFJLL77||L-7LJ77F-||L-|J.||J.L7-7-L--77F...</td>\n",
       "    </tr>\n",
       "    <tr>\n",
       "      <th>139</th>\n",
       "      <td>F-J-L--|.LFJ-F|-J-----|.LLLJL7-JJ.F-L-7-F---JL...</td>\n",
       "    </tr>\n",
       "  </tbody>\n",
       "</table>\n",
       "<p>140 rows × 1 columns</p>\n",
       "</div>"
      ],
      "text/plain": [
       "                                                coding\n",
       "0    F-L----F7-7.F-7JJ.F--L-.F|F77.L|7.FLF-7.JJ--7F...\n",
       "1    J|F7.LL|.F7.FL|J-77--JJ7L|-|-F-7L7-|LJ|F|JL|L-...\n",
       "2    FF7J.7L|-7|FF7|L7|L|.LF7-JFLJJ.J7JJFJ-7.L-LLJJ...\n",
       "3    FJ.LF-7-FJLJ-|7-7J777..|-FJ7.FJ.|.F|LFL-L7L|.....\n",
       "4    |FF7LFL7LJJL|.|.||L77--|7F---L.F|77JFL7.F|7FL7...\n",
       "..                                                 ...\n",
       "135  |-|||JF-7-7||LJ7J-|7|..F7LFJ7.F7F|.F7.---7||J....\n",
       "136  |.LFJ-|JLF7-7-||L|||J.FFJ7.|F-7J|7.LL-7|FJF-7F...\n",
       "137  F-|.F7|.FJ7FL-|-7F||L-J|F7F-L7J-7--F7FFLJLFFL7...\n",
       "138  .FJF|JFFJLL77||L-7LJ77F-||L-|J.||J.L7-7-L--77F...\n",
       "139  F-J-L--|.LFJ-F|-J-----|.LLLJL7-JJ.F-L-7-F---JL...\n",
       "\n",
       "[140 rows x 1 columns]"
      ]
     },
     "execution_count": 2,
     "metadata": {},
     "output_type": "execute_result"
    }
   ],
   "source": [
    "df = pd.read_csv(\"day10.txt\", header=None)\n",
    "df.columns = [\"coding\"]\n",
    "df"
   ]
  },
  {
   "cell_type": "code",
   "execution_count": 3,
   "metadata": {},
   "outputs": [
    {
     "data": {
      "text/plain": [
       "(140, 140)"
      ]
     },
     "execution_count": 3,
     "metadata": {},
     "output_type": "execute_result"
    }
   ],
   "source": [
    "x_dim = df.coding.str.len()[0]\n",
    "y_dim = len(df)\n",
    "x_dim, y_dim"
   ]
  },
  {
   "cell_type": "code",
   "execution_count": 4,
   "metadata": {},
   "outputs": [],
   "source": [
    "symbols = np.zeros((y_dim, x_dim), dtype=\"str\")"
   ]
  },
  {
   "cell_type": "code",
   "execution_count": 5,
   "metadata": {},
   "outputs": [],
   "source": [
    "starting_node = None"
   ]
  },
  {
   "cell_type": "code",
   "execution_count": 6,
   "metadata": {},
   "outputs": [
    {
     "data": {
      "text/plain": [
       "array([['F', '-', 'L', ..., '-', '7', '-'],\n",
       "       ['J', '|', 'F', ..., '7', '.', '|'],\n",
       "       ['F', 'F', '7', ..., '7', 'F', '-'],\n",
       "       ...,\n",
       "       ['F', '-', '|', ..., '|', 'J', '7'],\n",
       "       ['.', 'F', 'J', ..., '7', '|', '|'],\n",
       "       ['F', '-', 'J', ..., '.', '-', 'J']], dtype='<U1')"
      ]
     },
     "execution_count": 6,
     "metadata": {},
     "output_type": "execute_result"
    }
   ],
   "source": [
    "numbers = []\n",
    "for y, row in enumerate(df.coding):\n",
    "    for x, val in enumerate(row):\n",
    "        symbols[y, x] = val\n",
    "        if val == \"S\":\n",
    "            starting_node = y, x\n",
    "symbols"
   ]
  },
  {
   "cell_type": "code",
   "execution_count": 7,
   "metadata": {},
   "outputs": [
    {
     "data": {
      "text/plain": [
       "(25, 108)"
      ]
     },
     "execution_count": 7,
     "metadata": {},
     "output_type": "execute_result"
    }
   ],
   "source": [
    "starting_node"
   ]
  },
  {
   "cell_type": "code",
   "execution_count": 8,
   "metadata": {},
   "outputs": [],
   "source": [
    "visited_nodes = {starting_node: 0}"
   ]
  },
  {
   "cell_type": "code",
   "execution_count": 9,
   "metadata": {},
   "outputs": [],
   "source": [
    "from collections import deque\n",
    "queue = deque()\n",
    "queue.append(starting_node)"
   ]
  },
  {
   "cell_type": "code",
   "execution_count": 10,
   "metadata": {},
   "outputs": [],
   "source": [
    "class SymbolDefinition:\n",
    "    def __init__(self, symbol, new_locations_generator) -> None:\n",
    "        self.symbol = symbol\n",
    "        self.new_locations_generator = new_locations_generator\n",
    "\n",
    "    def get_new_locations(self, location):\n",
    "        y, x = location\n",
    "        return self.new_locations_generator(y, x)"
   ]
  },
  {
   "cell_type": "code",
   "execution_count": 11,
   "metadata": {},
   "outputs": [],
   "source": [
    "definitions = [\n",
    "SymbolDefinition(\"-\", lambda y, x: [(y, x-1), (y, x+1)]),\n",
    "SymbolDefinition(\"|\", lambda y, x: [(y+1, x), (y-1, x)]),\n",
    "SymbolDefinition(\"L\", lambda y, x: [(y, x+1), (y-1, x)]),\n",
    "SymbolDefinition(\"J\", lambda y, x: [(y, x-1), (y-1, x)]),\n",
    "SymbolDefinition(\"7\", lambda y, x: [(y, x-1), (y+1, x)]),\n",
    "SymbolDefinition(\"F\", lambda y, x: [(y, x+1), (y+1, x)])\n",
    "]"
   ]
  },
  {
   "cell_type": "code",
   "execution_count": 12,
   "metadata": {},
   "outputs": [],
   "source": [
    "symbol_def_map = {symboldef.symbol: symboldef for symboldef in definitions}"
   ]
  },
  {
   "cell_type": "code",
   "execution_count": 13,
   "metadata": {},
   "outputs": [
    {
     "name": "stdout",
     "output_type": "stream",
     "text": [
      "deque([(24, 108), (26, 108)])\n"
     ]
    }
   ],
   "source": [
    "def process_locations(new_locations, prev_x, prev_y):\n",
    "    current_steps = visited_nodes[(prev_y, prev_x)]\n",
    "    for new_loc in new_locations:\n",
    "        if new_loc not in visited_nodes:\n",
    "            visited_nodes[new_loc] = current_steps + 1\n",
    "            queue.append(new_loc)\n",
    "\n",
    "while len(queue):\n",
    "    current_search = queue.popleft()\n",
    "    y, x = current_search\n",
    "    #print(f\"processing {current_search}\")\n",
    "    symbol = symbols[y, x]\n",
    "    if symbol == \"S\":\n",
    "        if symbols[y, x+1] == \"-\":\n",
    "            visited_nodes[(y, x+1)] = 1\n",
    "            queue.append((y, x+1))\n",
    "        if symbols[y, x-1] == \"-\":\n",
    "            visited_nodes[(y, x-1)] = 1\n",
    "            queue.append((y, x-1))\n",
    "        if symbols[y+1, x] == \"|\":\n",
    "            visited_nodes[(y+1, x)] = 1\n",
    "            queue.append((y+1, x))\n",
    "        if symbols[y-1, x] == \"|\":\n",
    "            visited_nodes[(y-1, x)] = 1\n",
    "            queue.append((y-1, x))\n",
    "        if symbols[y-1, x] == \"J\":\n",
    "            visited_nodes[(y-1, x)] = 1\n",
    "            queue.append((y-1, x))\n",
    "        if symbols[y, x+1] == \"J\":\n",
    "            visited_nodes[(y, x+1)] = 1\n",
    "            queue.append((y, x+1))\n",
    "        if symbols[y+1, x] == \"L\":\n",
    "            visited_nodes[(y+1, x)] = 1\n",
    "            queue.append((y+1, x))\n",
    "        if symbols[y, x+1] == \"7\":\n",
    "            visited_nodes[(y, x+1)] = 1\n",
    "            queue.append((y, x+1))\n",
    "        if symbols[y, x-1] == \"F\":\n",
    "            visited_nodes[(y, x-1)] = 1\n",
    "            queue.append((y, x-1))\n",
    "        print(queue)\n",
    "    else:\n",
    "        symbol_def = symbol_def_map[symbol]\n",
    "        new_locations = symbol_def.get_new_locations(current_search)\n",
    "        process_locations(new_locations, x, y)   \n",
    "\n"
   ]
  },
  {
   "cell_type": "code",
   "execution_count": 14,
   "metadata": {},
   "outputs": [],
   "source": [
    "#visited_nodes"
   ]
  },
  {
   "cell_type": "code",
   "execution_count": 15,
   "metadata": {},
   "outputs": [],
   "source": [
    "#for visited_loc in visited_nodes.keys():\n",
    "#symbols = np.zeros((y_dim, x_dim), dtype=\"str\")"
   ]
  },
  {
   "cell_type": "code",
   "execution_count": 16,
   "metadata": {},
   "outputs": [],
   "source": [
    "np.set_printoptions(linewidth=100000)"
   ]
  },
  {
   "cell_type": "code",
   "execution_count": 17,
   "metadata": {},
   "outputs": [
    {
     "data": {
      "text/plain": [
       "array([['F', '-', 'L', ..., '-', '7', '-'],\n",
       "       ['J', '|', 'F', ..., '7', '.', '|'],\n",
       "       ['F', 'F', '7', ..., '7', 'F', '-'],\n",
       "       ...,\n",
       "       ['F', '-', '|', ..., '|', 'J', '7'],\n",
       "       ['.', 'F', 'J', ..., '7', '|', '|'],\n",
       "       ['F', '-', 'J', ..., '.', '-', 'J']], dtype='<U1')"
      ]
     },
     "execution_count": 17,
     "metadata": {},
     "output_type": "execute_result"
    }
   ],
   "source": [
    "symbols"
   ]
  },
  {
   "cell_type": "code",
   "execution_count": 18,
   "metadata": {},
   "outputs": [
    {
     "data": {
      "text/plain": [
       "array([['F', 'X', '-', ..., '7', 'X', '-'],\n",
       "       ['X', 'X', 'X', ..., 'X', 'X', 'X'],\n",
       "       ['J', 'X', '|', ..., '.', 'X', '|'],\n",
       "       ...,\n",
       "       ['.', 'X', 'F', ..., '|', 'X', '|'],\n",
       "       ['X', 'X', 'X', ..., 'X', 'X', 'X'],\n",
       "       ['F', 'X', '-', ..., '-', 'X', 'J']], dtype='<U1')"
      ]
     },
     "execution_count": 18,
     "metadata": {},
     "output_type": "execute_result"
    }
   ],
   "source": [
    "symbols_extended = np.full((2*y_dim-1, 2*x_dim-1), 'X', dtype=\"str\")\n",
    "for iy, ix in np.ndindex(symbols.shape):\n",
    "    if iy == 2*y_dim:\n",
    "        continue\n",
    "    if ix == 2*x_dim:\n",
    "        continue\n",
    "    symbols_extended[2*iy, 2*ix] = symbols[iy, ix]\n",
    "symbols_extended"
   ]
  },
  {
   "cell_type": "code",
   "execution_count": 19,
   "metadata": {},
   "outputs": [
    {
     "data": {
      "text/plain": [
       "array([['F', 'X', '-', ..., '7', 'X', '-'],\n",
       "       ['X', 'X', 'X', ..., 'X', 'X', 'X'],\n",
       "       ['J', 'X', '|', ..., '.', 'X', '|'],\n",
       "       ...,\n",
       "       ['.', 'X', 'F', ..., '|', 'X', '|'],\n",
       "       ['X', 'X', 'X', ..., 'X', 'X', 'X'],\n",
       "       ['F', 'X', '-', ..., '-', 'X', 'J']], dtype='<U1')"
      ]
     },
     "execution_count": 19,
     "metadata": {},
     "output_type": "execute_result"
    }
   ],
   "source": [
    "# main loop\n",
    "for visited_loc in visited_nodes.keys():\n",
    "    y, x = visited_loc\n",
    "    symbol = symbols[visited_loc]\n",
    "    symbols_extended[2*y, 2*x] = 'B'\n",
    "    if symbol == 'S':\n",
    "        continue\n",
    "    symbol_def = symbol_def_map[symbol]\n",
    "    new_locations = symbol_def.get_new_locations(visited_loc)\n",
    "    for new_location in new_locations:\n",
    "        y2, x2 = new_location\n",
    "        symbols_extended[2*y2, 2*x2] = 'B'\n",
    "        if y==y2:\n",
    "            if x>x2:\n",
    "                 symbols_extended[2*y2, 2*x2+1] = 'B'\n",
    "            else:\n",
    "                 symbols_extended[2*y2, 2*x+1] = 'B'\n",
    "        if x==x2:\n",
    "            if y>y2:\n",
    "                 symbols_extended[2*y2+1, 2*x2] = 'B'\n",
    "            else:\n",
    "                 symbols_extended[2*y+1, 2*x2] = 'B'\n",
    "symbols_extended"
   ]
  },
  {
   "cell_type": "code",
   "execution_count": 20,
   "metadata": {},
   "outputs": [
    {
     "data": {
      "text/plain": [
       "(279, 279)"
      ]
     },
     "execution_count": 20,
     "metadata": {},
     "output_type": "execute_result"
    }
   ],
   "source": [
    "symbols_extended.shape"
   ]
  },
  {
   "cell_type": "code",
   "execution_count": 21,
   "metadata": {},
   "outputs": [],
   "source": [
    "def safe_access(matrix, y, x):\n",
    "    sh = symbols_extended.shape\n",
    "    y_max = symbols_extended.shape[0]\n",
    "    x_max = symbols_extended.shape[1]\n",
    "    if x < 0 or y < 0:\n",
    "        return\n",
    "    if x >= x_max or y >= y_max:\n",
    "        return\n",
    "    return matrix[y, x]"
   ]
  },
  {
   "cell_type": "code",
   "execution_count": 22,
   "metadata": {},
   "outputs": [],
   "source": [
    "queue = deque()\n",
    "reached = set()\n",
    "for iy, ix in np.ndindex(symbols_extended.shape):\n",
    "    symb = symbols_extended[iy, ix]\n",
    "    if symb != 'B':\n",
    "        if iy == 0 or ix == 0 or iy == symbols_extended.shape[0] -1 or ix == symbols_extended.shape[1] -1:\n",
    "            queue.append((iy, ix))\n",
    "            reached.add((iy, ix))\n",
    "            symbols_extended[iy, ix] = \"O\"\n",
    "while len(queue):\n",
    "    current_search = queue.popleft()\n",
    "    y, x = current_search    \n",
    "    up = safe_access(symbols_extended, y+1, x)\n",
    "    if up and up != 'B':\n",
    "       new_loc = (y+1, x)\n",
    "       if new_loc not in reached:\n",
    "        queue.append(new_loc)\n",
    "        reached.add(new_loc)\n",
    "        symbols_extended[y+1, x] = \"O\" \n",
    "    down = safe_access(symbols_extended, y-1, x)\n",
    "    if down and down != 'B':\n",
    "       new_loc = (y-1, x)\n",
    "       if new_loc not in reached:\n",
    "        queue.append(new_loc)\n",
    "        reached.add(new_loc)\n",
    "        symbols_extended[y-1, x] = \"O\" \n",
    "    left = safe_access(symbols_extended, y, x-1)\n",
    "    if left and left != 'B':\n",
    "       new_loc = (y, x-1)\n",
    "       if new_loc not in reached:\n",
    "        queue.append(new_loc)\n",
    "        reached.add(new_loc)\n",
    "        symbols_extended[y, x-1] = \"O\" \n",
    "    right = safe_access(symbols_extended, y, x+1)\n",
    "    if right and right != 'B':\n",
    "       new_loc = (y, x+1)\n",
    "       if new_loc not in reached:\n",
    "        queue.append(new_loc)\n",
    "        reached.add(new_loc)\n",
    "        symbols_extended[y, x+1] = \"O\" \n"
   ]
  },
  {
   "cell_type": "code",
   "execution_count": 23,
   "metadata": {},
   "outputs": [
    {
     "data": {
      "text/plain": [
       "array([['O', 'O', 'O', ..., 'O', 'O', 'O'],\n",
       "       ['O', 'O', 'O', ..., 'O', 'O', 'O'],\n",
       "       ['O', 'O', 'O', ..., 'O', 'O', 'O'],\n",
       "       ...,\n",
       "       ['O', 'O', 'O', ..., 'O', 'O', 'O'],\n",
       "       ['O', 'O', 'O', ..., 'O', 'O', 'O'],\n",
       "       ['O', 'O', 'O', ..., 'O', 'O', 'O']], dtype='<U1')"
      ]
     },
     "execution_count": 23,
     "metadata": {},
     "output_type": "execute_result"
    }
   ],
   "source": [
    "symbols_extended"
   ]
  },
  {
   "cell_type": "code",
   "execution_count": 24,
   "metadata": {},
   "outputs": [
    {
     "data": {
      "text/plain": [
       "(array(['-', '.', '7', 'B', 'F', 'J', 'L', 'O', 'X', '|'], dtype='<U1'),\n",
       " array([   47,    35,    46, 26804,    39,    54,    46, 36426, 14308,    36]))"
      ]
     },
     "execution_count": 24,
     "metadata": {},
     "output_type": "execute_result"
    }
   ],
   "source": [
    "np.unique(symbols_extended, return_counts=True)"
   ]
  },
  {
   "cell_type": "code",
   "execution_count": 25,
   "metadata": {},
   "outputs": [],
   "source": [
    "res = 0\n",
    "for iy, ix in np.ndindex(symbols_extended.shape): \n",
    "    if iy % 2 == 0 and ix % 2 == 0:\n",
    "        symb = symbols_extended[iy, ix]\n",
    "        if symb != 'B' and symb != 'O' and symb != 'X':\n",
    "            res +=1"
   ]
  },
  {
   "cell_type": "code",
   "execution_count": 26,
   "metadata": {},
   "outputs": [
    {
     "data": {
      "text/plain": [
       "303"
      ]
     },
     "execution_count": 26,
     "metadata": {},
     "output_type": "execute_result"
    }
   ],
   "source": [
    "res"
   ]
  }
 ],
 "metadata": {
  "kernelspec": {
   "display_name": "Python 3",
   "language": "python",
   "name": "python3"
  },
  "language_info": {
   "codemirror_mode": {
    "name": "ipython",
    "version": 3
   },
   "file_extension": ".py",
   "mimetype": "text/x-python",
   "name": "python",
   "nbconvert_exporter": "python",
   "pygments_lexer": "ipython3",
   "version": "3.11.1"
  }
 },
 "nbformat": 4,
 "nbformat_minor": 2
}
