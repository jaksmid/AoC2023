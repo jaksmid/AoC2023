{
 "cells": [
  {
   "cell_type": "code",
   "execution_count": 21,
   "metadata": {},
   "outputs": [],
   "source": [
    "import numpy as np"
   ]
  },
  {
   "cell_type": "code",
   "execution_count": 22,
   "metadata": {},
   "outputs": [
    {
     "data": {
      "text/plain": [
       "['.....#....',\n",
       " '....#...O#',\n",
       " '.....##...',\n",
       " '..O#......',\n",
       " '.....OOO#.',\n",
       " '.O#...O#.#',\n",
       " '....O#...O',\n",
       " '.......OOO',\n",
       " '#...O###.O',\n",
       " '#.OOO#...O']"
      ]
     },
     "execution_count": 22,
     "metadata": {},
     "output_type": "execute_result"
    }
   ],
   "source": [
    "patterns = []\n",
    "with open(\"day14_Aver.txt\") as f:\n",
    "    lines = f.readlines()\n",
    "current_pattern = []\n",
    "for line in lines:\n",
    "    if len(line) > 3:\n",
    "        line = line[:-1]\n",
    "        current_pattern.append(line)\n",
    "    else:\n",
    "        patterns.append(current_pattern)\n",
    "        current_pattern = []\n",
    "patterns.append(current_pattern)\n",
    "patterns[0]\n",
    "#beware - new line must be at input"
   ]
  },
  {
   "cell_type": "code",
   "execution_count": 23,
   "metadata": {},
   "outputs": [
    {
     "data": {
      "text/plain": [
       "(10, 10)"
      ]
     },
     "execution_count": 23,
     "metadata": {},
     "output_type": "execute_result"
    }
   ],
   "source": [
    "pattern = patterns[0]\n",
    "x_dim = len(pattern[0])\n",
    "y_dim = len(pattern)\n",
    "x_dim, y_dim"
   ]
  },
  {
   "cell_type": "code",
   "execution_count": 24,
   "metadata": {},
   "outputs": [],
   "source": [
    "symbols = np.zeros((y_dim, x_dim), dtype=\"str\")"
   ]
  },
  {
   "cell_type": "code",
   "execution_count": 25,
   "metadata": {},
   "outputs": [],
   "source": [
    "numbers = []\n",
    "for y, row in enumerate(pattern):\n",
    "    for x, val in enumerate(row):\n",
    "        symbols[y, x] = val"
   ]
  },
  {
   "cell_type": "code",
   "execution_count": 26,
   "metadata": {},
   "outputs": [],
   "source": [
    "def pretty_print(matrix):\n",
    "    print(str(matrix).replace(' ','').replace(\"'\",\"\").replace('[','').replace(']',''))"
   ]
  },
  {
   "cell_type": "code",
   "execution_count": 27,
   "metadata": {},
   "outputs": [
    {
     "name": "stdout",
     "output_type": "stream",
     "text": [
      ".....#....\n",
      "....#...O#\n",
      ".....##...\n",
      "..O#......\n",
      ".....OOO#.\n",
      ".O#...O#.#\n",
      "....O#...O\n",
      ".......OOO\n",
      "#...O###.O\n",
      "#.OOO#...O\n"
     ]
    }
   ],
   "source": [
    "pretty_print(symbols)"
   ]
  },
  {
   "cell_type": "code",
   "execution_count": 28,
   "metadata": {},
   "outputs": [],
   "source": [
    "from functools import cache\n",
    "\n",
    "\n",
    "@cache\n",
    "def calculate_weight(round_rocks, distance_from_south):\n",
    "    if round_rocks:\n",
    "        return distance_from_south + calculate_weight(round_rocks-1, distance_from_south-1) # could be replaced by formula\n",
    "    return 0"
   ]
  },
  {
   "cell_type": "code",
   "execution_count": 29,
   "metadata": {},
   "outputs": [
    {
     "data": {
      "text/plain": [
       "3"
      ]
     },
     "execution_count": 29,
     "metadata": {},
     "output_type": "execute_result"
    }
   ],
   "source": [
    "calculate_weight(2,2)"
   ]
  },
  {
   "cell_type": "code",
   "execution_count": 30,
   "metadata": {},
   "outputs": [
    {
     "data": {
      "text/plain": [
       "110"
      ]
     },
     "execution_count": 30,
     "metadata": {},
     "output_type": "execute_result"
    }
   ],
   "source": [
    "y_dim = len(pattern)\n",
    "x_dim = len(pattern[0])\n",
    "total_weight = 0\n",
    "for x in range(x_dim):\n",
    "    current_small_rocks = 0\n",
    "    for distance_from_south in range(y_dim):\n",
    "        current_symbol = symbols[y_dim-distance_from_south-1, x]\n",
    "        #print(current_symbol)\n",
    "        if current_symbol == \"O\":\n",
    "            current_small_rocks += 1\n",
    "        elif current_symbol == \"#\":\n",
    "            total_weight += calculate_weight(current_small_rocks, distance_from_south)\n",
    "            current_small_rocks = 0\n",
    "    if current_small_rocks:\n",
    "        #print(f\"{current_small_rocks}_{y_dim}\")\n",
    "        total_weight += calculate_weight(current_small_rocks, y_dim)\n",
    "total_weight"
   ]
  }
 ],
 "metadata": {
  "kernelspec": {
   "display_name": "Python 3",
   "language": "python",
   "name": "python3"
  },
  "language_info": {
   "codemirror_mode": {
    "name": "ipython",
    "version": 3
   },
   "file_extension": ".py",
   "mimetype": "text/x-python",
   "name": "python",
   "nbconvert_exporter": "python",
   "pygments_lexer": "ipython3",
   "version": "3.11.1"
  }
 },
 "nbformat": 4,
 "nbformat_minor": 2
}
