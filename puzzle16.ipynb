{
 "cells": [
  {
   "cell_type": "code",
   "execution_count": 55,
   "metadata": {},
   "outputs": [],
   "source": [
    "import pandas as pd\n",
    "import re\n",
    "import numpy as np"
   ]
  },
  {
   "cell_type": "code",
   "execution_count": 56,
   "metadata": {},
   "outputs": [],
   "source": [
    "#instructions = \"LR\"\n",
    "instructions = \"LRRLLRLRRRLRRRLRRLRRRLRRLRRRLRRLRRRLRLRRRLRRRLRRRLRLRRLRRRLRRRLRRLRRLRRLRLLLRRRLRRRLRLRLRRLLRRRLRRLRRRLRLRRLRRRLRRRLLRLRLLRRRLRRRLLRRRLRRRLRRRLRRLRRRLLLRRRLRLLLRLRLRLLRLRLLLRRLRRLLRRLRRRLRRLRRLRLRRLLRRLRLRRLLLRRRLLRRRLLRLRLLRRRLRLLRRLRLRRLRLRRRLLRRRLLRRLRLRRLRRLLRLRLRRRLRLRRRR\""
   ]
  },
  {
   "cell_type": "code",
   "execution_count": 57,
   "metadata": {},
   "outputs": [
    {
     "data": {
      "text/plain": [
       "'LRRLLRLRRRLRRRLRRLRRRLRRLRRRLRRLRRRLRLRRRLRRRLRRRLRLRRLRRRLRRRLRRLRRLRRLRLLLRRRLRRRLRLRLRRLLRRRLRRLRRRLRLRRLRRRLRRRLLRLRLLRRRLRRRLLRRRLRRRLRRRLRRLRRRLLLRRRLRLLLRLRLRLLRLRLLLRRLRRLLRRLRRRLRRLRRLRLRRLLRRLRLRRLLLRRRLLRRRLLRLRLLRRRLRLLRRLRLRRLRLRRRLLRRRLLRRLRLRRLRRLLRLRLRRRLRLRRRR'"
      ]
     },
     "execution_count": 57,
     "metadata": {},
     "output_type": "execute_result"
    }
   ],
   "source": [
    "instructions"
   ]
  },
  {
   "cell_type": "code",
   "execution_count": 58,
   "metadata": {},
   "outputs": [
    {
     "name": "stderr",
     "output_type": "stream",
     "text": [
      "/var/folders/pm/vw9pw9_93bl47zh9mtqphvb00000gn/T/ipykernel_81517/919813513.py:1: ParserWarning: Falling back to the 'python' engine because the 'c' engine does not support regex separators (separators > 1 char and different from '\\s+' are interpreted as regex); you can avoid this warning by specifying engine='python'.\n",
      "  df = pd.read_csv(\"puzzle15.txt\", header=None, sep=\" = \")\n"
     ]
    }
   ],
   "source": [
    "df = pd.read_csv(\"puzzle15.txt\", header=None, sep=\" = \")\n",
    "df.columns = [\"node\", \"next\"]"
   ]
  },
  {
   "cell_type": "code",
   "execution_count": 59,
   "metadata": {},
   "outputs": [
    {
     "data": {
      "text/html": [
       "<div>\n",
       "<style scoped>\n",
       "    .dataframe tbody tr th:only-of-type {\n",
       "        vertical-align: middle;\n",
       "    }\n",
       "\n",
       "    .dataframe tbody tr th {\n",
       "        vertical-align: top;\n",
       "    }\n",
       "\n",
       "    .dataframe thead th {\n",
       "        text-align: right;\n",
       "    }\n",
       "</style>\n",
       "<table border=\"1\" class=\"dataframe\">\n",
       "  <thead>\n",
       "    <tr style=\"text-align: right;\">\n",
       "      <th></th>\n",
       "      <th>node</th>\n",
       "      <th>next</th>\n",
       "    </tr>\n",
       "  </thead>\n",
       "  <tbody>\n",
       "    <tr>\n",
       "      <th>0</th>\n",
       "      <td>GLJ</td>\n",
       "      <td>(QQV, JTL)</td>\n",
       "    </tr>\n",
       "    <tr>\n",
       "      <th>1</th>\n",
       "      <td>JSJ</td>\n",
       "      <td>(DKN, GQN)</td>\n",
       "    </tr>\n",
       "    <tr>\n",
       "      <th>2</th>\n",
       "      <td>MGD</td>\n",
       "      <td>(BPL, LQC)</td>\n",
       "    </tr>\n",
       "    <tr>\n",
       "      <th>3</th>\n",
       "      <td>VSK</td>\n",
       "      <td>(SPH, DDH)</td>\n",
       "    </tr>\n",
       "    <tr>\n",
       "      <th>4</th>\n",
       "      <td>TSB</td>\n",
       "      <td>(MKP, TKX)</td>\n",
       "    </tr>\n",
       "    <tr>\n",
       "      <th>...</th>\n",
       "      <td>...</td>\n",
       "      <td>...</td>\n",
       "    </tr>\n",
       "    <tr>\n",
       "      <th>745</th>\n",
       "      <td>PMX</td>\n",
       "      <td>(DRL, SRN)</td>\n",
       "    </tr>\n",
       "    <tr>\n",
       "      <th>746</th>\n",
       "      <td>XMK</td>\n",
       "      <td>(HFK, MJQ)</td>\n",
       "    </tr>\n",
       "    <tr>\n",
       "      <th>747</th>\n",
       "      <td>NDB</td>\n",
       "      <td>(JHV, JKP)</td>\n",
       "    </tr>\n",
       "    <tr>\n",
       "      <th>748</th>\n",
       "      <td>LQS</td>\n",
       "      <td>(TCN, FLS)</td>\n",
       "    </tr>\n",
       "    <tr>\n",
       "      <th>749</th>\n",
       "      <td>PGG</td>\n",
       "      <td>(NJD, QCG)</td>\n",
       "    </tr>\n",
       "  </tbody>\n",
       "</table>\n",
       "<p>750 rows × 2 columns</p>\n",
       "</div>"
      ],
      "text/plain": [
       "    node        next\n",
       "0    GLJ  (QQV, JTL)\n",
       "1    JSJ  (DKN, GQN)\n",
       "2    MGD  (BPL, LQC)\n",
       "3    VSK  (SPH, DDH)\n",
       "4    TSB  (MKP, TKX)\n",
       "..   ...         ...\n",
       "745  PMX  (DRL, SRN)\n",
       "746  XMK  (HFK, MJQ)\n",
       "747  NDB  (JHV, JKP)\n",
       "748  LQS  (TCN, FLS)\n",
       "749  PGG  (NJD, QCG)\n",
       "\n",
       "[750 rows x 2 columns]"
      ]
     },
     "execution_count": 59,
     "metadata": {},
     "output_type": "execute_result"
    }
   ],
   "source": [
    "df"
   ]
  },
  {
   "cell_type": "code",
   "execution_count": 60,
   "metadata": {},
   "outputs": [
    {
     "data": {
      "text/html": [
       "<div>\n",
       "<style scoped>\n",
       "    .dataframe tbody tr th:only-of-type {\n",
       "        vertical-align: middle;\n",
       "    }\n",
       "\n",
       "    .dataframe tbody tr th {\n",
       "        vertical-align: top;\n",
       "    }\n",
       "\n",
       "    .dataframe thead th {\n",
       "        text-align: right;\n",
       "    }\n",
       "</style>\n",
       "<table border=\"1\" class=\"dataframe\">\n",
       "  <thead>\n",
       "    <tr style=\"text-align: right;\">\n",
       "      <th></th>\n",
       "      <th>node</th>\n",
       "      <th>next</th>\n",
       "      <th>left</th>\n",
       "      <th>right</th>\n",
       "    </tr>\n",
       "  </thead>\n",
       "  <tbody>\n",
       "    <tr>\n",
       "      <th>0</th>\n",
       "      <td>GLJ</td>\n",
       "      <td>(QQV, JTL)</td>\n",
       "      <td>QQV</td>\n",
       "      <td>JTL</td>\n",
       "    </tr>\n",
       "    <tr>\n",
       "      <th>1</th>\n",
       "      <td>JSJ</td>\n",
       "      <td>(DKN, GQN)</td>\n",
       "      <td>DKN</td>\n",
       "      <td>GQN</td>\n",
       "    </tr>\n",
       "    <tr>\n",
       "      <th>2</th>\n",
       "      <td>MGD</td>\n",
       "      <td>(BPL, LQC)</td>\n",
       "      <td>BPL</td>\n",
       "      <td>LQC</td>\n",
       "    </tr>\n",
       "    <tr>\n",
       "      <th>3</th>\n",
       "      <td>VSK</td>\n",
       "      <td>(SPH, DDH)</td>\n",
       "      <td>SPH</td>\n",
       "      <td>DDH</td>\n",
       "    </tr>\n",
       "    <tr>\n",
       "      <th>4</th>\n",
       "      <td>TSB</td>\n",
       "      <td>(MKP, TKX)</td>\n",
       "      <td>MKP</td>\n",
       "      <td>TKX</td>\n",
       "    </tr>\n",
       "    <tr>\n",
       "      <th>...</th>\n",
       "      <td>...</td>\n",
       "      <td>...</td>\n",
       "      <td>...</td>\n",
       "      <td>...</td>\n",
       "    </tr>\n",
       "    <tr>\n",
       "      <th>745</th>\n",
       "      <td>PMX</td>\n",
       "      <td>(DRL, SRN)</td>\n",
       "      <td>DRL</td>\n",
       "      <td>SRN</td>\n",
       "    </tr>\n",
       "    <tr>\n",
       "      <th>746</th>\n",
       "      <td>XMK</td>\n",
       "      <td>(HFK, MJQ)</td>\n",
       "      <td>HFK</td>\n",
       "      <td>MJQ</td>\n",
       "    </tr>\n",
       "    <tr>\n",
       "      <th>747</th>\n",
       "      <td>NDB</td>\n",
       "      <td>(JHV, JKP)</td>\n",
       "      <td>JHV</td>\n",
       "      <td>JKP</td>\n",
       "    </tr>\n",
       "    <tr>\n",
       "      <th>748</th>\n",
       "      <td>LQS</td>\n",
       "      <td>(TCN, FLS)</td>\n",
       "      <td>TCN</td>\n",
       "      <td>FLS</td>\n",
       "    </tr>\n",
       "    <tr>\n",
       "      <th>749</th>\n",
       "      <td>PGG</td>\n",
       "      <td>(NJD, QCG)</td>\n",
       "      <td>NJD</td>\n",
       "      <td>QCG</td>\n",
       "    </tr>\n",
       "  </tbody>\n",
       "</table>\n",
       "<p>750 rows × 4 columns</p>\n",
       "</div>"
      ],
      "text/plain": [
       "    node        next left right\n",
       "0    GLJ  (QQV, JTL)  QQV   JTL\n",
       "1    JSJ  (DKN, GQN)  DKN   GQN\n",
       "2    MGD  (BPL, LQC)  BPL   LQC\n",
       "3    VSK  (SPH, DDH)  SPH   DDH\n",
       "4    TSB  (MKP, TKX)  MKP   TKX\n",
       "..   ...         ...  ...   ...\n",
       "745  PMX  (DRL, SRN)  DRL   SRN\n",
       "746  XMK  (HFK, MJQ)  HFK   MJQ\n",
       "747  NDB  (JHV, JKP)  JHV   JKP\n",
       "748  LQS  (TCN, FLS)  TCN   FLS\n",
       "749  PGG  (NJD, QCG)  NJD   QCG\n",
       "\n",
       "[750 rows x 4 columns]"
      ]
     },
     "execution_count": 60,
     "metadata": {},
     "output_type": "execute_result"
    }
   ],
   "source": [
    "next_both = df.next.str.replace(\"[()]\", \"\", regex=True).str.split(\", \")\n",
    "df[\"left\"] = next_both.str[0]\n",
    "df[\"right\"] = next_both.str[1]\n",
    "df"
   ]
  },
  {
   "cell_type": "code",
   "execution_count": 61,
   "metadata": {},
   "outputs": [
    {
     "data": {
      "text/html": [
       "<div>\n",
       "<style scoped>\n",
       "    .dataframe tbody tr th:only-of-type {\n",
       "        vertical-align: middle;\n",
       "    }\n",
       "\n",
       "    .dataframe tbody tr th {\n",
       "        vertical-align: top;\n",
       "    }\n",
       "\n",
       "    .dataframe thead th {\n",
       "        text-align: right;\n",
       "    }\n",
       "</style>\n",
       "<table border=\"1\" class=\"dataframe\">\n",
       "  <thead>\n",
       "    <tr style=\"text-align: right;\">\n",
       "      <th></th>\n",
       "      <th>node</th>\n",
       "      <th>next</th>\n",
       "      <th>left</th>\n",
       "      <th>right</th>\n",
       "    </tr>\n",
       "  </thead>\n",
       "  <tbody>\n",
       "    <tr>\n",
       "      <th>6</th>\n",
       "      <td>BLZ</td>\n",
       "      <td>(HGN, KRR)</td>\n",
       "      <td>HGN</td>\n",
       "      <td>KRR</td>\n",
       "    </tr>\n",
       "    <tr>\n",
       "      <th>12</th>\n",
       "      <td>NPZ</td>\n",
       "      <td>(JRD, NHL)</td>\n",
       "      <td>JRD</td>\n",
       "      <td>NHL</td>\n",
       "    </tr>\n",
       "    <tr>\n",
       "      <th>250</th>\n",
       "      <td>BJZ</td>\n",
       "      <td>(MVX, JPD)</td>\n",
       "      <td>MVX</td>\n",
       "      <td>JPD</td>\n",
       "    </tr>\n",
       "    <tr>\n",
       "      <th>543</th>\n",
       "      <td>PBZ</td>\n",
       "      <td>(SFL, FVR)</td>\n",
       "      <td>SFL</td>\n",
       "      <td>FVR</td>\n",
       "    </tr>\n",
       "    <tr>\n",
       "      <th>604</th>\n",
       "      <td>ZZZ</td>\n",
       "      <td>(DMB, LQS)</td>\n",
       "      <td>DMB</td>\n",
       "      <td>LQS</td>\n",
       "    </tr>\n",
       "    <tr>\n",
       "      <th>607</th>\n",
       "      <td>PMZ</td>\n",
       "      <td>(CQH, NFG)</td>\n",
       "      <td>CQH</td>\n",
       "      <td>NFG</td>\n",
       "    </tr>\n",
       "  </tbody>\n",
       "</table>\n",
       "</div>"
      ],
      "text/plain": [
       "    node        next left right\n",
       "6    BLZ  (HGN, KRR)  HGN   KRR\n",
       "12   NPZ  (JRD, NHL)  JRD   NHL\n",
       "250  BJZ  (MVX, JPD)  MVX   JPD\n",
       "543  PBZ  (SFL, FVR)  SFL   FVR\n",
       "604  ZZZ  (DMB, LQS)  DMB   LQS\n",
       "607  PMZ  (CQH, NFG)  CQH   NFG"
      ]
     },
     "execution_count": 61,
     "metadata": {},
     "output_type": "execute_result"
    }
   ],
   "source": [
    "df[df.node.str[2] == 'Z']"
   ]
  },
  {
   "cell_type": "code",
   "execution_count": 62,
   "metadata": {},
   "outputs": [],
   "source": [
    "lefts = {}\n",
    "rights = {}\n",
    "starting_nodes = []\n",
    "for _, row in df.iterrows():\n",
    "    name = row[\"node\"]\n",
    "    lefts[name] = row[\"left\"]\n",
    "    rights[name] = row[\"right\"]\n",
    "    if name[2] == 'A':\n",
    "        starting_nodes.append(name)\n",
    "instructions_map = {\n",
    "    \"L\": lefts,\n",
    "    \"R\": rights\n",
    "}"
   ]
  },
  {
   "cell_type": "code",
   "execution_count": 63,
   "metadata": {},
   "outputs": [],
   "source": [
    "#instructions_map"
   ]
  },
  {
   "cell_type": "code",
   "execution_count": 64,
   "metadata": {},
   "outputs": [
    {
     "data": {
      "text/plain": [
       "['MTA', 'QNA', 'XCA', 'BXA', 'AAA', 'VCA']"
      ]
     },
     "execution_count": 64,
     "metadata": {},
     "output_type": "execute_result"
    }
   ],
   "source": [
    "current_nodes = starting_nodes\n",
    "current_nodes"
   ]
  },
  {
   "cell_type": "code",
   "execution_count": 65,
   "metadata": {},
   "outputs": [],
   "source": [
    "\n",
    "from collections import Counter\n",
    "\n",
    "# to verify the hypothesis that the inputs are several loops\n",
    "def analyse_starting_node(node, instructions):\n",
    "    reached_nodes = set()\n",
    "    path = []\n",
    "    current_node = node\n",
    "    counter = Counter()\n",
    "    for i in range(500):\n",
    "        for instruction in instructions:\n",
    "            counter.update([current_node])\n",
    "            is_terminal = current_node[2] == 'Z'\n",
    "            path.append((current_node, counter[current_node], is_terminal))\n",
    "            new_node = instructions_map[instruction][current_node]\n",
    "            current_node = new_node\n",
    "    return path\n"
   ]
  },
  {
   "cell_type": "code",
   "execution_count": 66,
   "metadata": {},
   "outputs": [
    {
     "data": {
      "text/plain": [
       "138500"
      ]
     },
     "execution_count": 66,
     "metadata": {},
     "output_type": "execute_result"
    }
   ],
   "source": [
    "path = analyse_starting_node(\"MTA\", instructions)\n",
    "len(path)"
   ]
  },
  {
   "cell_type": "code",
   "execution_count": 67,
   "metadata": {},
   "outputs": [],
   "source": [
    "#path"
   ]
  },
  {
   "cell_type": "code",
   "execution_count": 68,
   "metadata": {},
   "outputs": [],
   "source": [
    "def find_loop_length(node, instructions):\n",
    "    reached_nodes = set()\n",
    "    path = []\n",
    "    current_node = node\n",
    "    counter = Counter()\n",
    "    while True:\n",
    "        for instruction in instructions:\n",
    "            counter.update([current_node])\n",
    "            is_terminal = current_node[2] == 'Z'\n",
    "            if is_terminal:\n",
    "                return len(path)\n",
    "            path.append((current_node, counter[current_node], is_terminal))\n",
    "            new_node = instructions_map[instruction][current_node]\n",
    "            current_node = new_node"
   ]
  },
  {
   "cell_type": "code",
   "execution_count": 69,
   "metadata": {},
   "outputs": [
    {
     "data": {
      "text/plain": [
       "16897"
      ]
     },
     "execution_count": 69,
     "metadata": {},
     "output_type": "execute_result"
    }
   ],
   "source": [
    "find_loop_length(\"MTA\", instructions)"
   ]
  },
  {
   "cell_type": "code",
   "execution_count": 70,
   "metadata": {},
   "outputs": [
    {
     "data": {
      "text/plain": [
       "[16897, 16343, 21883, 13019, 14681, 20221]"
      ]
     },
     "execution_count": 70,
     "metadata": {},
     "output_type": "execute_result"
    }
   ],
   "source": [
    "pathlengths = [find_loop_length(start, instructions) for start in starting_nodes]\n",
    "pathlengths"
   ]
  },
  {
   "cell_type": "code",
   "execution_count": 71,
   "metadata": {},
   "outputs": [
    {
     "data": {
      "text/plain": [
       "[16897, 16343, 21883, 13019, 14681, 20221]"
      ]
     },
     "execution_count": 71,
     "metadata": {},
     "output_type": "execute_result"
    }
   ],
   "source": [
    "pathlengths"
   ]
  },
  {
   "cell_type": "code",
   "execution_count": 72,
   "metadata": {},
   "outputs": [
    {
     "data": {
      "text/plain": [
       "14321394058031"
      ]
     },
     "execution_count": 72,
     "metadata": {},
     "output_type": "execute_result"
    }
   ],
   "source": [
    "from math import lcm\n",
    "lcm(*pathlengths)"
   ]
  }
 ],
 "metadata": {
  "kernelspec": {
   "display_name": "Python 3",
   "language": "python",
   "name": "python3"
  },
  "language_info": {
   "codemirror_mode": {
    "name": "ipython",
    "version": 3
   },
   "file_extension": ".py",
   "mimetype": "text/x-python",
   "name": "python",
   "nbconvert_exporter": "python",
   "pygments_lexer": "ipython3",
   "version": "3.11.1"
  }
 },
 "nbformat": 4,
 "nbformat_minor": 2
}
