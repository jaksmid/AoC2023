{
 "cells": [
  {
   "cell_type": "code",
   "execution_count": 68,
   "metadata": {},
   "outputs": [],
   "source": [
    "class Pulse():\n",
    "    def __init__(self, source, destination, is_high) -> None:\n",
    "        self.source = source\n",
    "        self.destination = destination\n",
    "        self.is_high = is_high\n",
    "\n",
    "    def __repr__(self) -> str:\n",
    "        return f\"{self.source.name if self.source else 'Button'} -{'high' if self.is_high else 'low'}-> {self.destination.name}\""
   ]
  },
  {
   "cell_type": "code",
   "execution_count": 69,
   "metadata": {},
   "outputs": [],
   "source": [
    "class FlipFlop():\n",
    "    def __init__(self, name, destinations) -> None:\n",
    "        self.is_on = False\n",
    "        self.name = name\n",
    "        self.destinations = destinations\n",
    "        self.type =\"flipflop\"\n",
    "\n",
    "    def handle_pulse(self, pulse: Pulse):\n",
    "        new_pulses = []\n",
    "        if not pulse.is_high:\n",
    "            self.is_on = not self.is_on\n",
    "            for destination in self.destinations:\n",
    "                new_pulses.append(Pulse(self, destination, self.is_on))\n",
    "        return new_pulses"
   ]
  },
  {
   "cell_type": "code",
   "execution_count": 70,
   "metadata": {},
   "outputs": [],
   "source": [
    "class Broadcaster():\n",
    "    def __init__(self, name, destinations) -> None:\n",
    "        self.destinations = destinations\n",
    "        self.name = name\n",
    "        self.type =\"broadcaster\"\n",
    "\n",
    "    def handle_pulse(self, pulse: Pulse):\n",
    "        new_pulses = []\n",
    "        for destination in self.destinations:\n",
    "            new_pulses.append(Pulse(self, destination, pulse.is_high))\n",
    "        return new_pulses"
   ]
  },
  {
   "cell_type": "code",
   "execution_count": 71,
   "metadata": {},
   "outputs": [],
   "source": [
    "class Conjunction():\n",
    "    def __init__(self, name, destinations) -> None:\n",
    "        self.destinations = destinations\n",
    "        self.name = name\n",
    "        self.inputs = {}\n",
    "        self.type =\"conjunction\"\n",
    "\n",
    "    def register_input(self, source):\n",
    "        self.inputs[source.name] = False\n",
    "\n",
    "\n",
    "    def handle_pulse(self, pulse: Pulse):\n",
    "        new_pulses = []\n",
    "        self.inputs[pulse.source.name] = pulse.is_high\n",
    "        all_true = sum((self.inputs.values())) == len(self.inputs)\n",
    "        for destination in self.destinations:\n",
    "            new_pulses.append(Pulse(self, destination, not all_true))\n",
    "        return new_pulses"
   ]
  },
  {
   "cell_type": "code",
   "execution_count": 72,
   "metadata": {},
   "outputs": [],
   "source": [
    "parsing_items = False\n",
    "with open(\"day20.txt\") as f:\n",
    "    lines = f.readlines()\n",
    "nodes = {}\n",
    "for i, line in enumerate(lines):\n",
    "    if len(line) > 3:\n",
    "        if i != len(lines) -1:\n",
    "            line = line[:-1]\n",
    "        #print(line)\n",
    "        destinations = line.split(\">\")[1].split(\",\")\n",
    "        destinations = [dest.strip() for dest in destinations]\n",
    "        name = line.split()[0][1:]\n",
    "        if line.startswith(\"broadcaster\"):\n",
    "            nodes[\"broadcaster\"] = Broadcaster(\"broadcaster\", destinations)\n",
    "        elif line.startswith(\"%\"):\n",
    "            nodes[name] = FlipFlop(name, destinations)\n",
    "        elif line.startswith(\"&\"):\n",
    "            nodes[name] = Conjunction(name, destinations)\n",
    "\n",
    "for node in nodes.values():\n",
    "    node.destinations = [nodes[dest] if dest in nodes else Broadcaster(dest, []) for dest in node.destinations]\n",
    "    for destination in node.destinations:\n",
    "        if destination.type == \"conjunction\":\n",
    "            destination.register_input(node)"
   ]
  },
  {
   "cell_type": "code",
   "execution_count": 73,
   "metadata": {},
   "outputs": [],
   "source": [
    "#nodes[\"inv\"].inputs"
   ]
  },
  {
   "cell_type": "code",
   "execution_count": 74,
   "metadata": {},
   "outputs": [
    {
     "data": {
      "text/plain": [
       "898731036"
      ]
     },
     "execution_count": 74,
     "metadata": {},
     "output_type": "execute_result"
    }
   ],
   "source": [
    "from collections import deque\n",
    "queue = deque()\n",
    "total_lows = 0\n",
    "total_highs= 0\n",
    "for i in range(1000):\n",
    "    #print(\"##########\")\n",
    "    queue.append(Pulse(None, nodes[\"broadcaster\"], False))\n",
    "    while (len(queue)):\n",
    "        signal = queue.popleft()\n",
    "        #print(signal)\n",
    "        if signal.is_high:\n",
    "            total_highs+=1\n",
    "        else:\n",
    "            total_lows+=1\n",
    "        new_signals = signal.destination.handle_pulse(signal)\n",
    "        for new_signal in new_signals:\n",
    "            queue.append(new_signal)\n",
    "total_lows * total_highs\n"
   ]
  }
 ],
 "metadata": {
  "kernelspec": {
   "display_name": "Python 3",
   "language": "python",
   "name": "python3"
  },
  "language_info": {
   "codemirror_mode": {
    "name": "ipython",
    "version": 3
   },
   "file_extension": ".py",
   "mimetype": "text/x-python",
   "name": "python",
   "nbconvert_exporter": "python",
   "pygments_lexer": "ipython3",
   "version": "3.11.1"
  }
 },
 "nbformat": 4,
 "nbformat_minor": 2
}
